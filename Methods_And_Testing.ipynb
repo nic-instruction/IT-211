{
  "nbformat": 4,
  "nbformat_minor": 0,
  "metadata": {
    "colab": {
      "name": "Methods And Testing.ipynb",
      "private_outputs": true,
      "provenance": [],
      "collapsed_sections": [],
      "authorship_tag": "ABX9TyNI1GXbcWTlqLBl5+FdiJG4",
      "include_colab_link": true
    },
    "kernelspec": {
      "name": "python3",
      "display_name": "Python 3"
    },
    "language_info": {
      "name": "python"
    }
  },
  "cells": [
    {
      "cell_type": "markdown",
      "metadata": {
        "id": "view-in-github",
        "colab_type": "text"
      },
      "source": [
        "<a href=\"https://colab.research.google.com/github/nic-instruction/IT-211/blob/main/Methods_And_Testing.ipynb\" target=\"_parent\"><img src=\"https://colab.research.google.com/assets/colab-badge.svg\" alt=\"Open In Colab\"/></a>"
      ]
    },
    {
      "cell_type": "markdown",
      "source": [
        "# Methods, Testing, the Math Class\n",
        "\n",
        "This chapter introduces you to methods making your very own methods and splitting code up into methods for incremental testing and reuse. We also start to take a look at different sorts of methods, and classes and what happens when they're invoked.\n",
        "\n",
        "Note that though it does say 'testing' in the title, this is not the same as JUnit testing which we will be doing later on in the quarter!\n",
        "\n",
        "We will also take a look at the Math class which is extremely useful.  \n",
        "\n",
        "\n",
        "\n",
        "\n",
        "\n"
      ],
      "metadata": {
        "id": "59LqUSg5vUOJ"
      }
    },
    {
      "cell_type": "markdown",
      "source": [
        "Let's take a look at our hello world program again.  How many methods are in this program?\n",
        "\n",
        "What do the following in it mean?\n",
        "   * void\n",
        "   * public\n",
        "   * static <- super important: These methods are be called without creating an object of the class.  The methods in the Math class are static!  What do you think about `System.out.println()`?\n",
        "\n",
        "\n"
      ],
      "metadata": {
        "id": "6u_EOpexcXud"
      }
    },
    {
      "cell_type": "code",
      "execution_count": null,
      "metadata": {
        "id": "5USdUZkovDWP"
      },
      "outputs": [],
      "source": [
        "%%writefile Hello.java\n",
        "public class Hello {\n",
        "   public static void main(String[] args) {\n",
        "       System.out.println(\"Hello World\");\n",
        "\n",
        "   }\n",
        "}"
      ]
    },
    {
      "cell_type": "code",
      "source": [
        "!javac Hello.java\n",
        "!java Hello"
      ],
      "metadata": {
        "id": "3jC5vl4_vTaz"
      },
      "execution_count": null,
      "outputs": []
    },
    {
      "cell_type": "code",
      "source": [
        "%%writefile Hello.java\n",
        "public class Hello {\n",
        "   public static void main(String[] args) {\n",
        "       printStuff();\n",
        "\n",
        "   }\n",
        "   public static void printStuff() {\n",
        "       System.out.println(\"I am a method\\nthat just prints three lines\\nof text\");\n",
        "   }\n",
        "\n",
        "   public static void mathStuff() {\n",
        "       \n",
        "   }\n",
        "}"
      ],
      "metadata": {
        "id": "kZpKXY6IgL7Q"
      },
      "execution_count": null,
      "outputs": []
    },
    {
      "cell_type": "code",
      "source": [
        "!javac Hello.java\n",
        "!java Hello"
      ],
      "metadata": {
        "id": "ay7XEpBzgOam"
      },
      "execution_count": null,
      "outputs": []
    },
    {
      "cell_type": "markdown",
      "source": [
        ""
      ],
      "metadata": {
        "id": "gJkQw8VIcx2o"
      }
    },
    {
      "cell_type": "code",
      "source": [
        "%%writefile Hello.java\n",
        "public class Hello {\n",
        "   public static void main(String[] args) {\n",
        "       tripplePrint(\"Hello!!\");\n",
        "       smush(\"how are you doing today?\");\n",
        "       double someNum = 15.0;\n",
        "       mathStuff(someNum);\n",
        "\n",
        "   }\n",
        "   public static void tripplePrint(String s) {\n",
        "       System.out.println(s+ \"\\n\" + s + \"\\n\" + s + \"\\n\");\n",
        "   }\n",
        "\n",
        "   public static void smush(String s) {\n",
        "       s = s.replaceAll(\"\\\\s\", \"\");  // this is caling a string method, which we haven't quite gotten to, but I really wanted to use!\n",
        "       System.out.println(s);\n",
        "       \n",
        "   }\n",
        "\n",
        "   public static void mathStuff(double x) {\n",
        "       double result = Math.sqrt(x);\n",
        "       System.out.println(result);\n",
        "       \n",
        "   }\n",
        "}"
      ],
      "metadata": {
        "id": "Inl7CKCjnnzd"
      },
      "execution_count": null,
      "outputs": []
    },
    {
      "cell_type": "code",
      "source": [
        "!javac Hello.java\n",
        "!java Hello"
      ],
      "metadata": {
        "id": "tLpiJRUjnp5v"
      },
      "execution_count": null,
      "outputs": []
    },
    {
      "cell_type": "code",
      "source": [
        "%%writefile ReturnValue.java\n",
        "public class ReturnValue {\n",
        "   public static void main(String[] args) {\n",
        "   double coffeeStainRadius = 5.0;\n",
        "   double areaOfCoffeeStain = calculateArea(coffeeStainRadius);\n",
        "   calculateAreaRounded(coffeeStainRadius);\n",
        "\n",
        "   System.out.println(\"The total area of the coffee stain on the desk is: \" + areaOfCoffeeStain);\n",
        "  \n",
        "   // what is going on with execution order here??? ;)  \n",
        "   // why does calculateAreaRounded print before calculateArea?\n",
        "\n",
        "   }\n",
        "\n",
        " public static double calculateArea(double radius) {  // from the book\n",
        "    double result = Math.PI * radius * radius;\n",
        "    return result;\n",
        " }\n",
        "\n",
        "  public static void calculateAreaRounded(double radius) {  // not from the book, using rounding and printf!\n",
        "    double result = Math.PI * radius * radius;\n",
        "    System.out.printf(\"%.2f \\n\", result);\n",
        " }\n",
        "\n",
        "}\n",
        "\n"
      ],
      "metadata": {
        "id": "799zIUVLuEfB"
      },
      "execution_count": null,
      "outputs": []
    },
    {
      "cell_type": "code",
      "source": [
        "!javac ReturnValue.java\n",
        "!java ReturnValue"
      ],
      "metadata": {
        "id": "fNQBVPoYucQg"
      },
      "execution_count": null,
      "outputs": []
    },
    {
      "cell_type": "markdown",
      "source": [
        "Various math examples from the book:\n",
        "\n",
        "```\n",
        "double root = Math.sqrt(17.0);\n",
        "double angle = 1.5;\n",
        "double height = Math.sin(angle);\n",
        "double degrees = 90;\n",
        "double angle = degrees / 180.0 * Math.PI;\n",
        "double euler = Math.E;\n",
        "\n",
        "\n",
        "radians\n",
        "\n",
        "double radians = Math.toRadians(180.0);\n",
        "double degrees = Math.toDegrees(Math.PI);\n",
        "\n",
        "round floating points:\n",
        "\n",
        "long x = Math.round(Math.PI * 20.0);\n",
        "\n",
        "\n",
        "raising 2 to the power of 10 and assigning the value to x.\n",
        "\n",
        "double x = Math.pow(2.0, 10.0);\n",
        "\n",
        "There are so many other methods and you can google them!  Java Math class!\n",
        "\n",
        "```"
      ],
      "metadata": {
        "id": "D9Goe9LlsrQk"
      }
    },
    {
      "cell_type": "markdown",
      "source": [
        "# Some things to pay attention to\n",
        "\n",
        "   * Execution order (Methods can call other methods, things get confusing very quickly)\n",
        "   * Variable scope (where does a variable have meaning and where does it not - we haven't had to worry about this until now)\n",
        "   * Datatypes are going to get very tricky very quickly, especially when methods can return different kinds of datatypes and we have to capture the return values in a variable of the correct type.  Remember that you can always look up the method's documentation and in most cases you'll be able to look at the method parameters themselves.  \n",
        "\n",
        "   Depending on how much ground we cover this week, we may have another 'breaking things' lab this week, or we'll save it for next week."
      ],
      "metadata": {
        "id": "TfT8Lh7x0g7W"
      }
    }
  ]
}