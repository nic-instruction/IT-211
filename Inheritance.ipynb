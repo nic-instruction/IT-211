{
  "nbformat": 4,
  "nbformat_minor": 0,
  "metadata": {
    "colab": {
      "name": "Inheritance.ipynb",
      "private_outputs": true,
      "provenance": [],
      "collapsed_sections": [],
      "authorship_tag": "ABX9TyOq4eKP4V+kfYienXKodxx4",
      "include_colab_link": true
    },
    "kernelspec": {
      "name": "python3",
      "display_name": "Python 3"
    },
    "language_info": {
      "name": "python"
    }
  },
  "cells": [
    {
      "cell_type": "markdown",
      "metadata": {
        "id": "view-in-github",
        "colab_type": "text"
      },
      "source": [
        "<a href=\"https://colab.research.google.com/github/nic-instruction/IT-211/blob/main/Inheritance.ipynb\" target=\"_parent\"><img src=\"https://colab.research.google.com/assets/colab-badge.svg\" alt=\"Open In Colab\"/></a>"
      ]
    },
    {
      "cell_type": "markdown",
      "source": [
        "# Inheritance in Java\n",
        "Now that we understand how to build basic classes, we can talk about inheritance which is a huge part of object oriented programming.\n",
        "\n",
        "Inheritance allows us to 'extend' a class, in other words, add new features to existing code, in a way that changes its functionality, without having to alter the existing code, or rewrite it.\n",
        "\n",
        "Inheritance is super useful for a number of reasons:\n",
        "\n",
        "1. You don't have to rewrite code, your child class just inherits functionality from the parent class.\n",
        "2. If one of the inherited attributes or methods doesn't work for your class, you can just overwrite it with your own version.  The version in your child class always takes president over the inherited method or attribute.\n",
        "3. Objects remain isolated from each other, but can share functionality and become linked.\n",
        "\n",
        "# w3schools links\n",
        "   * Object oriented programming: https://www.w3schools.com/java/java_oop.asp\n",
        "   * Modifiers (for classes, methods, variables, etc.) https://www.w3schools.com/java/java_modifiers.asp\n",
        "   * Inheritance: https://www.w3schools.com/java/java_inheritance.asp\n",
        "   * Polymorphism: https://www.w3schools.com/java/java_polymorphism.asp\n",
        "   * Interface (can be used to implement additional methods, etc. and a class can inherit from multiple interfaces, whereas it can only inherit from one class) https://www.w3schools.com/java/java_polymorphism.asp"
      ],
      "metadata": {
        "id": "59rjb-snPBIo"
      }
    },
    {
      "cell_type": "code",
      "execution_count": null,
      "metadata": {
        "id": "34Ucld4KLbkE"
      },
      "outputs": [],
      "source": [
        "%%writefile Games.java\n",
        "public class Games {\n",
        "    public static void main(String [] args) {\n",
        "        System.out.println(\"What would inheritance look like?\");\n",
        "    }\n",
        "}"
      ]
    },
    {
      "cell_type": "code",
      "source": [
        "%%writefile Chess.java\n",
        "public class Chess extends Games {\n",
        "    public static void main(String [] args) {\n",
        "        System.out.println(\"What would inheritance look like? here?\");\n",
        "    }\n",
        "}"
      ],
      "metadata": {
        "id": "9xUvZmAFzS4W"
      },
      "execution_count": null,
      "outputs": []
    },
    {
      "cell_type": "code",
      "source": [
        "!javac Games.java Chess.java\n",
        "!java Games \n",
        "!java Chess"
      ],
      "metadata": {
        "id": "85CCKDAByLf_"
      },
      "execution_count": null,
      "outputs": []
    },
    {
      "cell_type": "markdown",
      "source": [
        "# Important Concepts\n",
        "\n",
        "(from the book: https://learning.oreilly.com/library/view/think-java-2nd/9781492072492/ch14.html#a0000010803)\n",
        "\n",
        "## Composition\n",
        "Instances of one class contain references to instances of another class. For example, an instance of Eights contains references to two Player objects, two Hand objects, and a Scanner.\n",
        "\n",
        "## Inheritance\n",
        "One class extends another class. For example, Hand extends CardCollection, so every instance of Hand is also a CardCollection.\n",
        "\n",
        "**Composition** is also known as a **HAS-A relationship**, as in “Eights has a Scanner”. **Inheritance** is also known as an **IS-A relationship**, as in “a Hand is a CardCollection”. This vocabulary provides a concise way to talk about an object-oriented design.\n",
        "\n"
      ],
      "metadata": {
        "id": "q2riLLXFheFc"
      }
    },
    {
      "cell_type": "code",
      "source": [
        "%%writefile GameComponants.java\n",
        "public class GameComponants{\n",
        "    public static void main (String [] args) {\n",
        "        System.out.println(\"What would composition with the Games class look like for this??\");\n",
        "    }\n",
        "}"
      ],
      "metadata": {
        "id": "u6vntZ4rkykR"
      },
      "execution_count": null,
      "outputs": []
    },
    {
      "cell_type": "code",
      "source": [
        "!javac GameComponants.java\n",
        "!java GameComponants"
      ],
      "metadata": {
        "id": "cd4OkTIEy9e6"
      },
      "execution_count": null,
      "outputs": []
    },
    {
      "cell_type": "markdown",
      "source": [
        "# UML (Unified Modeling Language)\n",
        "Eclipse has a number of packages that will help you generate UML diagrams.  Follow the directions to install a halfway decent one below.\n",
        "\n",
        "To install:\n",
        "   * Launch Eclipse\n",
        "   * Go Window (or Help, depending on your OS) > Eclipse Marketplace and search for 'papyrus UML'\n",
        "   * Drag the 'install' button from the page onto your eclipse icon and it will start to install.\n",
        "   * It will restart and install papyrus.  Here's the website for that project, with lots of good tutorials: https://www.eclipse.org/papyrus/\n",
        "   * This is a good primer for launching from Florida Statue University: https://www.cs.fsu.edu/~baker/swe1/restricted/notes/tutorial_papyrus/tutorial_papyrus.html#:~:text=To%20begin%20using%20Papyrus%2C%20launch,desired%2C%20change%20the%20default%20location."
      ],
      "metadata": {
        "id": "qIO4bRuRwlfj"
      }
    },
    {
      "cell_type": "markdown",
      "source": [
        "# Card Game Lab\n",
        "If we have time, this is a really fun lab and you can put a GUI on top of it, pretty easily in eclipse: https://github.com/nic-instruction/IT-211/blob/main/Card_and_Deck_Classes.ipynb"
      ],
      "metadata": {
        "id": "8M5ASLu4xx8i"
      }
    }
  ]
}