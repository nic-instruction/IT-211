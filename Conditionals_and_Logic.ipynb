{
  "nbformat": 4,
  "nbformat_minor": 0,
  "metadata": {
    "colab": {
      "name": "Conditionals and Logic.ipynb",
      "private_outputs": true,
      "provenance": [],
      "collapsed_sections": [],
      "authorship_tag": "ABX9TyMrPxnYmyJJcFibfQ07ofqC",
      "include_colab_link": true
    },
    "kernelspec": {
      "name": "python3",
      "display_name": "Python 3"
    },
    "language_info": {
      "name": "python"
    }
  },
  "cells": [
    {
      "cell_type": "markdown",
      "metadata": {
        "id": "view-in-github",
        "colab_type": "text"
      },
      "source": [
        "<a href=\"https://colab.research.google.com/github/nic-instruction/IT-211/blob/main/Conditionals_and_Logic.ipynb\" target=\"_parent\"><img src=\"https://colab.research.google.com/assets/colab-badge.svg\" alt=\"Open In Colab\"/></a>"
      ]
    },
    {
      "cell_type": "markdown",
      "source": [
        "# Conditionals & Logic\n",
        "\n",
        "Now that we know how to write methods we can move on to some core programming principals like conditionals.  \n",
        "\n",
        "Please read chapter 5 when you have a chance, as it will prove extremely helpful with these exercises."
      ],
      "metadata": {
        "id": "959ZVz2h5nPR"
      }
    },
    {
      "cell_type": "markdown",
      "source": [
        "# Resources\n",
        "\n",
        "## If - else if - else branches\n",
        "   * if: https://www.w3schools.com/java/java_conditions.asp\n",
        "   * switch: https://www.w3schools.com/java/java_switch.asp\n",
        "\n",
        "## Equality, relational, and logical operators\n",
        "   * String equality https://www.w3schools.com/java/ref_string_equals.asp\n",
        "   * Operators https://www.w3schools.com/java/java_operators.asp"
      ],
      "metadata": {
        "id": "JoHmAYVv7l0Q"
      }
    },
    {
      "cell_type": "markdown",
      "source": [
        "quick guide from the book:\n",
        "\n",
        "```\n",
        "x == y          // x is equal to y\n",
        "x != y          // x is not equal to y\n",
        "x > y           // x is greater than y\n",
        "x < y           // x is less than y\n",
        "x >= y          // x is greater than or equal to y\n",
        "x <= y          // x is less than or equal to y\n",
        "```\n",
        "\n"
      ],
      "metadata": {
        "id": "v534NerD_JlO"
      }
    },
    {
      "cell_type": "code",
      "execution_count": null,
      "metadata": {
        "id": "rBRRKvwi5l-0"
      },
      "outputs": [],
      "source": [
        "%%writefile Example.java\n",
        "import java.util.Random;\n",
        "import java.util.Scanner;\n",
        "\n",
        "public class Example {\n",
        "   public static void main(String[] args) {\n",
        "       Scanner in = new Scanner(System.in);\n",
        "       // these are here as a reminder of how to use Scanner to prompt for user input\n",
        "       // This will be useful in your labs.\n",
        "       // System.out.println(\"enter a sentance: \");\n",
        "       // String userSentance = in.nextLine();\n",
        "       // System.out.println(\"enter a word\");\n",
        "       // String userWord = in.nextLine();\n",
        "       \n",
        "   String mySentance = \"She sells sea shells by the sea shore\";\n",
        "   String myWord = \"sells\";\n",
        "\n",
        "   \n",
        "   System.out.println(\"the result of calling isEven(5) is: \" + isEven(5));\n",
        "   System.out.println(\"the result of calling randInRange(1, 80000) is: \" + randInRange(1, 80000));\n",
        "   System.out.println(\"the result of calling match(mySentance, myWord) is: \" + match(mySentance, myWord));\n",
        "       \n",
        "   }\n",
        "\n",
        "  // method to check if a number is even (notice the use of the modulo operator)\n",
        "\n",
        "   public static boolean isEven(int x) {\n",
        "       if (x % 2 == 0) {\n",
        "           return true;\n",
        "      } else {\n",
        "           return false;\n",
        "      }\n",
        "        \n",
        "   }\n",
        "\n",
        "   // generate random number in a range\n",
        "   // note that the number will change every time you call it\n",
        "   // also note that you must import the Random class.\n",
        "\n",
        "   public static int randInRange(int min, int max) {\n",
        "       Random rand = new Random();\n",
        "       int result = rand.nextInt(max - min + 1) + min;\n",
        "       return result;\n",
        "   }\n",
        "\n",
        "\n",
        "   // method for string matching\n",
        "\n",
        "   public static boolean match(String sentance, String word) {\n",
        "       boolean result = sentance.contains(word);\n",
        "       return result;\n",
        "   }\n",
        "}"
      ]
    },
    {
      "cell_type": "code",
      "source": [
        "!javac Example.java\n",
        "!java Example"
      ],
      "metadata": {
        "id": "ZDxs5-hl80-Z"
      },
      "execution_count": null,
      "outputs": []
    },
    {
      "cell_type": "markdown",
      "source": [
        "Labs:\n",
        "\n",
        "# String Methods!\n",
        "\n",
        "Check out: https://www.w3schools.com/java/java_ref_string.asp \n",
        "\n",
        "   1. Write a program containing a series of if statements that take a sentence as input from the user, and then print unique responses if three words of your choice are found, and a default response if none are found.\n",
        "\n",
        "   For example, let's say the words you chose to match on were \"blue\", \"silver\", \"fish\".  You would construct if statements that used string matching to print different things to the screen if each of these words was found.\n",
        "\n",
        "   2. Write a program that takes a word as user input via Scanner, then a switch statement that gives three different responses if three different words are matched, plus a default response.  Note that switch statements are case sensitive and you may want to make the word all uppercase or lowercase before attempting to match it.  You can find a string method that will do this for you in the w3schools link above. \n",
        "\n",
        "# Math\n",
        "\n",
        "check out: https://www.w3schools.com/java/java_conditions.asp\n",
        "Also check out the logical operators and comparison operators section of: https://www.w3schools.com/java/java_operators.asp\n",
        "\n",
        "\n",
        "\n",
        "  1. Write a program containing an if statement that takes a number as input from the user and returns \"your number is in range\" if the number is between 1 and 100, and returns \"your number is not in range\" if the number is not.  Use `&&` and `> <` in your if statment to define the range.\n",
        "\n",
        "  2. Write a program that takes user input and uses a ternary operator to determine if the user's number is greeter than 1200.  Print \"Your number is out of range\" if it is greater, and \"your number is in range\" if it is not.\n",
        "\n"
      ],
      "metadata": {
        "id": "udJ5I_kMC8e1"
      }
    }
  ]
}