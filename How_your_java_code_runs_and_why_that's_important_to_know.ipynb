{
  "nbformat": 4,
  "nbformat_minor": 0,
  "metadata": {
    "colab": {
      "name": "How your java code runs and why that's important to know.ipynb",
      "private_outputs": true,
      "provenance": [],
      "collapsed_sections": [],
      "authorship_tag": "ABX9TyP678F/w4NdB+tUKq2faGlH",
      "include_colab_link": true
    },
    "kernelspec": {
      "name": "python3",
      "display_name": "Python 3"
    },
    "language_info": {
      "name": "python"
    }
  },
  "cells": [
    {
      "cell_type": "markdown",
      "metadata": {
        "id": "view-in-github",
        "colab_type": "text"
      },
      "source": [
        "<a href=\"https://colab.research.google.com/github/nic-instruction/IT-211/blob/main/How_your_java_code_runs_and_why_that's_important_to_know.ipynb\" target=\"_parent\"><img src=\"https://colab.research.google.com/assets/colab-badge.svg\" alt=\"Open In Colab\"/></a>"
      ]
    },
    {
      "cell_type": "markdown",
      "source": [
        "# How different kinds of code run\n",
        "## (And why it's important)\n",
        "\n",
        "* https://godbolt.org/ (translates into assembly code)\n",
        "\n",
        "* assembler simulator: (this is simplified assembly, but a good visualization)\n",
        "https://schweigi.github.io/assembler-simulator/\n",
        "\n",
        "* Good reference for what is going on in the CPU:\n",
        "http://www.mathcs.emory.edu/~cheung/Courses/170/Syllabus/01/intro-computer2.html\n",
        "\n",
        "* Difference between assembly and machine language, compiled and interpreted languages, and why Java is special: https://www.geeksforgeeks.org/difference-between-assembly-language-and-machine-language/\n"
      ],
      "metadata": {
        "id": "am33WZ1vUxgD"
      }
    },
    {
      "cell_type": "markdown",
      "source": [
        "   # Java Memory Management\n",
        "   So, now we know why Java is super cool! Let's talk about why Java programs often have terrible memory leaks and how you can prevent this happening to YOUR java programs. This will help you not get paged in the middle of the night, or have to suffer the indignity of your server team having to automate restarts of your services.\n",
        "\n",
        "   * How to find info about memory in Java: https://www.geeksforgeeks.org/find-max-memory-free-memory-total-memory-java/\n",
        "   * Java memory leaks: https://www.geeksforgeeks.org/memory-leaks-java/?ref=lbp\n",
        "   * How memory management in Java works (welcome to the heap!): https://www.geeksforgeeks.org/java-memory-management/?ref=lbp"
      ],
      "metadata": {
        "id": "o3yW2IQIeSzG"
      }
    },
    {
      "cell_type": "code",
      "source": [
        "%%writefile MemoryDemo.java\n",
        "// From https://www.geeksforgeeks.org/find-max-memory-free-memory-total-memory-java/\n",
        "// Java code illustrating gc(), freeMemory()\n",
        "// and totalMemory() methods\n",
        "class MemoryDemo\n",
        "{\n",
        "\tpublic static void main(String arg[])\n",
        "\t{\n",
        "\t\tRuntime gfg = Runtime.getRuntime();\n",
        "\t\tlong memory1, memory2;\n",
        "\t\tInteger integer[] = new Integer[1000];\n",
        "\n",
        "\t\t// checking the total memory\n",
        "\t\tSystem.out.println(\"Total memory is: \"\n",
        "\t\t\t\t\t\t+ gfg.totalMemory());\n",
        "\n",
        "\t\t// checking free memory\n",
        "\t\tmemory1 = gfg.freeMemory();\n",
        "\t\tSystem.out.println(\"Initial free memory: \"\n",
        "\t\t\t\t\t\t\t\t\t+ memory1);\n",
        "\n",
        "\t\t// calling the garbage collector on demand\n",
        "\t\tgfg.gc();\n",
        "\n",
        "\t\tmemory1 = gfg.freeMemory();\n",
        "\n",
        "\t\tSystem.out.println(\"Free memory after garbage \"\n",
        "\t\t\t\t\t\t+ \"collection: \" + memory1);\n",
        "\n",
        "\t\t// allocating integers\n",
        "\t\tfor (int i = 0; i < 1000; i++)\n",
        "\t\t\tinteger[i] = new Integer(i);\n",
        "\n",
        "\t\tmemory2 = gfg.freeMemory();\n",
        "\t\tSystem.out.println(\"Free memory after allocation: \"\n",
        "\t\t\t\t\t\t+ memory2);\n",
        "\n",
        "\t\tSystem.out.println(\"Memory used by allocation: \" +\n",
        "\t\t\t\t\t\t\t\t\t(memory1 - memory2));\n",
        "\n",
        "\t\t// discard integers\n",
        "\t\tfor (int i = 0; i < 1000; i++)\n",
        "\t\t\tinteger[i] = null;\n",
        "\n",
        "\t\tgfg.gc();\n",
        "\n",
        "\t\tmemory2 = gfg.freeMemory();\n",
        "\t\tSystem.out.println(\"Free memory after \"\n",
        "\t\t\t+ \"collecting discarded Integers: \" + memory2);\n",
        "\t}\n",
        "}\n"
      ],
      "metadata": {
        "id": "yoyD06rrdpXC"
      },
      "execution_count": null,
      "outputs": []
    },
    {
      "cell_type": "code",
      "source": [
        "!javac MemoryDemo.java\n",
        "!java MemoryDemo"
      ],
      "metadata": {
        "id": "iiwk42qSd_3C"
      },
      "execution_count": null,
      "outputs": []
    },
    {
      "cell_type": "markdown",
      "source": [
        "# Java Execution Visualizer\n",
        "\n",
        "There are a number of tools that do this, but this one is online, and pretty easy to use: https://cscircles.cemc.uwaterloo.ca/java_visualize/\n",
        "\n",
        "Tools like this help you understand what is being executed when, and what the result is."
      ],
      "metadata": {
        "id": "aQqzWOr2yOiR"
      }
    },
    {
      "cell_type": "markdown",
      "source": [
        "# Homework (Group Work)\n",
        "\n",
        "Now that you know how Java works at a lower level, explain why calling the `.close()` method of your Scanner object is a good idea after you're done with it and what that does in the different parts of your Java memory.  Use your own words.\n",
        "\n",
        "Work with your group to come up with a simple and precise explanation no longer than one paragraph.  You can assume your audience is familiar with Java and Java memory management."
      ],
      "metadata": {
        "id": "1FxsF-49zq0Z"
      }
    }
  ]
}