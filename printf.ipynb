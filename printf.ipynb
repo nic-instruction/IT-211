{
  "nbformat": 4,
  "nbformat_minor": 0,
  "metadata": {
    "colab": {
      "name": "printf.ipynb",
      "private_outputs": true,
      "provenance": [],
      "authorship_tag": "ABX9TyM1qn3jF9nhBb9ust4UYV97",
      "include_colab_link": true
    },
    "kernelspec": {
      "name": "python3",
      "display_name": "Python 3"
    },
    "language_info": {
      "name": "python"
    }
  },
  "cells": [
    {
      "cell_type": "markdown",
      "metadata": {
        "id": "view-in-github",
        "colab_type": "text"
      },
      "source": [
        "<a href=\"https://colab.research.google.com/github/nic-instruction/IT-211/blob/main/printf.ipynb\" target=\"_parent\"><img src=\"https://colab.research.google.com/assets/colab-badge.svg\" alt=\"Open In Colab\"/></a>"
      ]
    },
    {
      "cell_type": "code",
      "execution_count": null,
      "metadata": {
        "id": "951PIm0GDn42"
      },
      "outputs": [],
      "source": [
        "%%writefile MultiVar.java\n",
        "\n",
        "public class MultiVar {\n",
        "\n",
        "    public static void main(String[] args) {\n",
        "        String myVar = \"I am a variable\";\n",
        "        double measurement = 10.77934;\n",
        "    \n",
        "    System.out.println(\"the contents of myvar are \" + myVar);\n",
        "    System.out.printf(\"the contents of myvar are %s and once again %s\", myVar, myVar);\n",
        "    System.out.println(\"\");\n",
        "    System.out.printf(\"the measurement value is: %.2f\", measurement);\n",
        "    \n",
        "\n",
        "    }\n",
        "}"
      ]
    },
    {
      "cell_type": "code",
      "source": [
        "!javac MultiVar.java\n",
        "!java MultiVar"
      ],
      "metadata": {
        "id": "FeiUNBqnD11r"
      },
      "execution_count": null,
      "outputs": []
    }
  ]
}