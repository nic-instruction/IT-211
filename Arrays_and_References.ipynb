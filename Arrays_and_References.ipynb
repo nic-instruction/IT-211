{
  "nbformat": 4,
  "nbformat_minor": 0,
  "metadata": {
    "colab": {
      "name": "Arrays and References.ipynb",
      "private_outputs": true,
      "provenance": [],
      "collapsed_sections": [],
      "authorship_tag": "ABX9TyPO2bHVwyvF6VPQ44YjF8oH",
      "include_colab_link": true
    },
    "kernelspec": {
      "name": "python3",
      "display_name": "Python 3"
    },
    "language_info": {
      "name": "python"
    }
  },
  "cells": [
    {
      "cell_type": "markdown",
      "metadata": {
        "id": "view-in-github",
        "colab_type": "text"
      },
      "source": [
        "<a href=\"https://colab.research.google.com/github/nic-instruction/IT-211/blob/main/Arrays_and_References.ipynb\" target=\"_parent\"><img src=\"https://colab.research.google.com/assets/colab-badge.svg\" alt=\"Open In Colab\"/></a>"
      ]
    },
    {
      "cell_type": "markdown",
      "source": [
        "# The rest of the quarter\n",
        "\n",
        "We are barreling quickly towards the end of the quarter! We have the option of working on a final project as a class to learn about class creation and inheritance in the last two weeks.  Please take a look at https://zetcode.com/javagames/ and see if there is a game there you would like to extend (remember that extending working code means adding features) often this means creating additional levels, adding graphics, etc.  We will vote as a class on what to work on and break people into groups of five to design different levels."
      ],
      "metadata": {
        "id": "73ggYgjje4-F"
      }
    },
    {
      "cell_type": "markdown",
      "source": [
        "# Java Array Basics\n",
        "Arrays allow us to process a lot more data than the basic datatypes, and they let us keep metadata about ordered groups of things.  They also have a number of methods that can be used on them to sort, order, and organize them.  Strings with something seperating data (:, space, | are all common) can be easily turned into String arrays as well.\n",
        "\n",
        "Some things (from your chapter) to remember about Java Arrays:\n",
        "\n",
        "* if you set an array equal to another it will just point to the same object, which is bad, because both will modify each other\n",
        "* if you print an array it will print the type and its address in memory, not the contents\n",
        "* You can loop through an array to actually copy it to another array, or use double[] b = Arrays.copyOf(a, 3); where 3 is the number of elements you want to copy, so you can also copy part of an array\n",
        "* arrayName.lenth gives you the number of elements in an array, note this is not a method like string.length(), it is a constant.\n",
        "* enhanced for loop (for each loop) `for (int value : values) {    System.out.println(value);}`\n",
        "* Note: enhanced for loops expose the value of the array member directly, so there's no insight into the index/position of the value in the array.\n",
        "\n",
        "# The Arrays class\n",
        "* The Arrays class provides many other useful methods like Arrays.compare, Arrays.equals, Arrays.fill, and Arrays.sort. Take a moment to read the documentation by searching the web for java.util.Arrays.\n",
        "* https://docs.oracle.com/en/java/javase/11/docs/api/java.base/java/util/Arrays.html\n",
        "\n",
        "## Some useful methods in the Arrays class\n",
        "* `double[] b = Arrays.copyOf(a, a.length);` is a better way to do a copy\n",
        "* You can import `java.util.Arrays` and use Arrays.toString(array name) to print the array, not that it will print with []'s instead of {}'s\n",
        "* You can loop through an array to actually copy it to another array, or use `double[] b = Arrays.copyOf(a, 3);` where 3 is the number of elements you want to copy, so you can also copy part of an array"
      ],
      "metadata": {
        "id": "-iJY-YxLVM9u"
      }
    },
    {
      "cell_type": "code",
      "source": [
        "%%writefile Array.java\n",
        "import java.util.Arrays;\n",
        "\n",
        "public class Array{\n",
        "    public static void main(String [] args) {\n",
        "        // to declare an array (hold the namespace)\n",
        "        String [] myStringArr;\n",
        "        char [] myCharArr;\n",
        "        int [] myIntArr;\n",
        "        double [] myDoubleArr;\n",
        "\n",
        "        // to create an array (must declare number of indexes - the number is unchangeble after creation)\n",
        "        myStringArr = new String [5];\n",
        "        myCharArr = new char [5];\n",
        "        myIntArr = new int [5];\n",
        "        myDoubleArr = new double [5];\n",
        "\n",
        "        // Assignment\n",
        "\n",
        "        myStringArr[0] = \"Hi!\";\n",
        "        myStringArr[1] = \"How\";\n",
        "        myStringArr[2] = \"Are\";\n",
        "        myStringArr[3] = \"You\";\n",
        "        myStringArr[4] = \"?\";\n",
        "\n",
        "        System.out.println(myStringArr);                     // this will not print the contents of the array\n",
        "        System.out.println(Arrays.toString(myStringArr));    // but this will\n",
        "    }\n",
        "}"
      ],
      "metadata": {
        "id": "fI0IAtKOUZmY"
      },
      "execution_count": null,
      "outputs": []
    },
    {
      "cell_type": "code",
      "source": [
        "!javac Array.java\n",
        "!java Array"
      ],
      "metadata": {
        "id": "d0rsnaHEUfiI"
      },
      "execution_count": null,
      "outputs": []
    },
    {
      "cell_type": "markdown",
      "source": [
        "# Modified Doubloon Code\n",
        "The strange behavior of the char class and its easy conversion into integers is something we've touched on before, but let's take a deeper look at it using the Doubloon code from the chapter.  \n",
        "\n",
        "What exactly is going on with `letter - a` in this code and how does the result give us an `int` that is then used as an array position?"
      ],
      "metadata": {
        "id": "xagEnlXHgHJt"
      }
    },
    {
      "cell_type": "code",
      "source": [
        "%%writefile Doubloon.java\n",
        "public class Doubloon {\n",
        "\n",
        "    public static boolean isDoubloon(String s) {\n",
        "        // count the number of times each letter appears\n",
        "        int[] counts = new int[26];\n",
        "        String lower = s.toLowerCase();\n",
        "        for (char letter : lower.toCharArray()) {\n",
        "            int index = letter - 'a';\n",
        "            int charInAscii = (int) letter;                    // convert the char to it's int value\n",
        "            System.out.println(charInAscii + \" : \" + letter);  // shows you the int value of the char and the char\n",
        "            counts[index]++;\n",
        "        }\n",
        "        // determine whether the given word is a doubloon\n",
        "        // this will return false if any letter in the word does NOT appear twice.\n",
        "        for (int count : counts) {\n",
        "            if (count != 0 && count != 2) { // if count is not 0 and count is not 2 return false\n",
        "                return false;\n",
        "            }\n",
        "        }\n",
        "        return true;\n",
        "    }\n",
        "\n",
        "    public static void main(String[] args) {\n",
        "        System.out.println(isDoubloon(\"Mama\"));  // true\n",
        "        System.out.println(isDoubloon(\"Lama\"));  // false\n",
        "    }\n",
        "}"
      ],
      "metadata": {
        "id": "D-xISuhdgQ6p"
      },
      "execution_count": null,
      "outputs": []
    },
    {
      "cell_type": "code",
      "source": [
        "!javac Doubloon.java\n",
        "!java Doubloon"
      ],
      "metadata": {
        "id": "YsIcPjxogWwq"
      },
      "execution_count": null,
      "outputs": []
    },
    {
      "cell_type": "markdown",
      "source": [
        "# For Each Loops & Split\n",
        "\n",
        "## The .split() String Method\n",
        "`split` is a string method available in many programming languages that allows you to turn a string into a string array by using a delimiter (think separator) to decide where one element begins and the next ends.  For example:\n",
        "\n",
        "```\n",
        "String [] myArray = myString.split(\" \");\n",
        "```\n",
        "in the code below is a string method that tells Java to take the contents of `myString` and put it into an array.  By saying that the delimiter is `\" \"` in the parentheses, we tell Java that every time it finds a space in `myString` it should remove that space and add the word before the space to the array.  We could just as easily split on `|` or `:` both of which are fairly common delimiters.\n",
        "\n",
        "This is an easy way to iterate over the contents of a string, and you can always turn the string array back into a string with the `Arrays.toString()` method.\n",
        "\n",
        "## For each loops\n",
        "\n",
        "For Each Loops are made to easily iterate over an array.  Note, that the way they are set up normally, the index of the array is not exposed, instead the variable you set in your loop declaration - in the case below `a` which is a string:\n",
        "\n",
        "```\n",
        " for (String a : myArray) {\n",
        "```\n",
        "\n",
        "will take on the value of each of your array elements in turn.  This is very different than a for loop or a while loop where you use counters to extract values via an index like we did last weak with strings.  You can, of course, use for and while loops with arrays as well.  You can also set an artificial counter that gets incremented as the last step within the for each loop, as shown below:"
      ],
      "metadata": {
        "id": "d2ObuKFGSiiJ"
      }
    },
    {
      "cell_type": "code",
      "source": [
        "%%writefile ForEach.java\n",
        "public class ForEach{\n",
        "    public static void main(String [] args){\n",
        "        String myString = \"I am a string!\";\n",
        "        \n",
        "        String [] myArray = myString.split(\" \");       // This uses the .split string method, to seperate each word into\n",
        "                                                       // a different item in the array.  Here we are spliting on a space\n",
        "                                                       // but you can split on anything, which is quite useful.\n",
        "\n",
        "        int arrayItem = 0;  // Note: there's no built-in var except a, so we must declare\n",
        "                            // arrayItem outside the loop to increment.\n",
        "        \n",
        "        // Now we're ready to itterate over myArray\n",
        "        // iterate means to perform an action for each item (in the array)\n",
        "        // then stop when there are no more items.\n",
        "\n",
        "        \n",
        "        for (String a : myArray) {\n",
        "            System.out.printf(\"%4d is the array position of \\\"\" + a + \"\\\". %n\",arrayItem); \n",
        "            \n",
        "            // To print the full string with spaces again, we could comment out the above and do:\n",
        "            // System.out.print(a + \" \");\n",
        "\n",
        "            // We increment the variable we declared outside of the array.  \n",
        "            arrayItem ++;\n",
        "\n",
        "        }\n",
        "    }\n",
        "}"
      ],
      "metadata": {
        "id": "yijtF_efSbNO"
      },
      "execution_count": null,
      "outputs": []
    },
    {
      "cell_type": "code",
      "source": [
        "!javac ForEach.java\n",
        "!java ForEach"
      ],
      "metadata": {
        "id": "zfnaWEEUSdbV"
      },
      "execution_count": null,
      "outputs": []
    },
    {
      "cell_type": "markdown",
      "source": [
        "# Using Arrays Sort\n",
        "Using the Arrays class sort method on arrays is an easy way to sort the elements of an array for processing.  Note this will be useful in your lab.\n",
        "\n",
        "Remember that the number of indexes in an array is immutable after the array is created, but data can be moved and rearranged within the array without issue."
      ],
      "metadata": {
        "id": "YClZ0B_tiQF4"
      }
    },
    {
      "cell_type": "code",
      "source": [
        "%%writefile OrderingArrays.java\n",
        "import java.util.Arrays;\n",
        "// find a list of all methods here https://docs.oracle.com/en/java/javase/11/docs/api/java.base/java/util/Arrays.html\n",
        "public class OrderingArrays {\n",
        "\n",
        "\tpublic static void main(String[] args) {\n",
        "\t\tString words[] = {\"apple\", \"penut\", \"peach\", \"plumb\", \"prefix\", \"misnomer\", \"writer\", \"singer\",\n",
        "\t\t\t\t           \"mister\", \"miser\", \"miller\", \"millionare\"};\n",
        "\t\t\n",
        "\t\tSystem.out.println(Arrays.toString(words));\n",
        "\t\t\n",
        "\t\tArrays.sort(words);\n",
        "\t\tString wordsString = Arrays.toString(words);\n",
        "\t\tSystem.out.println(wordsString);\n",
        "\t\t\n",
        "\t\t}\n",
        "\n",
        "\t}"
      ],
      "metadata": {
        "id": "eFqk2VwChWq_"
      },
      "execution_count": null,
      "outputs": []
    },
    {
      "cell_type": "code",
      "source": [
        "!javac OrderingArrays.java\n",
        "!java OrderingArrays"
      ],
      "metadata": {
        "id": "46XWbWTFh7Mm"
      },
      "execution_count": null,
      "outputs": []
    },
    {
      "cell_type": "markdown",
      "source": [
        "# Lab\n",
        "\n",
        "Exercise 7-8 (from the book).\n",
        "Two words or phrases are anagrams if they contain the same letters and the same number of each letter. For example, stop is an anagram of pots, allen downey is an anagram of well annoyed, and christopher mayfield is an anagram of hi prof the camel is dry. Write a method that takes two strings and checks whether they are anagrams of each other.\n",
        "\n",
        "Here is a list of anagrams please use the hard ones with different spacing to test your code: https://www.sightwordsgame.com/vocabulary-words/word-play/anagrams/\n",
        "\n",
        "In order to figure this out, you'll need to do a lot of string preperation: removing spaces, converting all letters to lower case, then converting to a char array to use the Arrays sort method.  Please do not use the string builder sort method, this is an Arrays excercise.  Then use the Arrays equals method to compare the two character arrays and return whether they are equal or not.  Please print your progress out along the way using System.out.println();\n",
        "\n",
        "I've left detailed notes for each step.  Use the following as references:\n",
        "\n",
        "* https://docs.oracle.com/en/java/javase/11/docs/api/java.base/java/util/Arrays.html (Arrays Methods)\n",
        "* https://docs.oracle.com/en/java/javase/11/docs/api/java.base/java/lang/String.html (String Methods)"
      ],
      "metadata": {
        "id": "fuWOrCCnQpo_"
      }
    },
    {
      "cell_type": "code",
      "source": [
        "%%writefile Anagram.java\n",
        "import java.util.Arrays;\n",
        "import java.util.Scanner;\n",
        "\n",
        "public class Anagram {\n",
        "\n",
        "\tpublic static void main(String[] args) {\n",
        "    Scanner in = new Scanner(System.in);\n",
        "\n",
        "    System.out.println(\"First word:\");\n",
        "    String word1 = in.nextLine();\n",
        "\n",
        "    System.out.println(\"Second word:\");\n",
        "    String word2 = in.nextLine();\n",
        "\n",
        "\t\tSystem.out.println(detectAnagram(\"signature\", \"a true sign\"));\n",
        "\n",
        "\t}\n",
        "\t\n",
        "\tpublic static boolean detectAnagram(String a, String b) {\n",
        "\t\t// pre-processing\n",
        "\t\t// use string method replaceAll to remove spaces from a and b.\n",
        "\n",
        "\t\t\n",
        "\t\t// System.out.println(\"a: \" + a + \" b: \" +b); // <-example print line\n",
        "\t\t\n",
        "\t\t// convert a and b to lower case using string method toLowerCase().\n",
        "\n",
        "\t\t\n",
        "\t\t// System.out.println(\"a: \" + a + \" b: \" +b); // <-example print line\n",
        "\t\t\n",
        "\t\t\n",
        "\t\t// convert to char array so we can use the sort method (note that many other languages have string sort methods)\n",
        "\n",
        "\t\t// System.out.println(Arrays.toString(aArray)); // <-example array printline for an array named aArray\n",
        "\t\t// System.out.println(Arrays.toString(bArray)); // <-example array printline for an array named bArray\n",
        "\n",
        "\t\t\n",
        "    // Use Arrays.sort to sort each character array\n",
        "\t\t\n",
        "\n",
        "\t\t\n",
        "\t\t// see if the two are equal to each other using the equals method, and return true or false\n",
        "\t\t// return Arrays.equals(aArray, bArray);  // <- example boolean return statement using Arrays.equals to compare aArray and bArray.\n",
        "  \n",
        "    return ;  // you will need to specify the return value for the code to compile.\n",
        "\t\t\n",
        "\t}\n",
        "\n",
        "}"
      ],
      "metadata": {
        "id": "Gt4kw5ezQrWl"
      },
      "execution_count": null,
      "outputs": []
    },
    {
      "cell_type": "code",
      "source": [
        "!javac Anagram.java\n",
        "!java Anagram"
      ],
      "metadata": {
        "id": "1m_rgYsKQrLs"
      },
      "execution_count": null,
      "outputs": []
    }
  ]
}