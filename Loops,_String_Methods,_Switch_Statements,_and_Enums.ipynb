{
  "nbformat": 4,
  "nbformat_minor": 0,
  "metadata": {
    "colab": {
      "name": "Loops, String Methods, Switch Statements, and Enums.ipynb",
      "private_outputs": true,
      "provenance": [],
      "collapsed_sections": [],
      "toc_visible": true,
      "authorship_tag": "ABX9TyM+Gg9FlCONeCTIgU2TsXGb",
      "include_colab_link": true
    },
    "kernelspec": {
      "name": "python3",
      "display_name": "Python 3"
    }
  },
  "cells": [
    {
      "cell_type": "markdown",
      "metadata": {
        "id": "view-in-github",
        "colab_type": "text"
      },
      "source": [
        "<a href=\"https://colab.research.google.com/github/nic-instruction/IT-211/blob/main/Loops%2C_String_Methods%2C_Switch_Statements%2C_and_Enums.ipynb\" target=\"_parent\"><img src=\"https://colab.research.google.com/assets/colab-badge.svg\" alt=\"Open In Colab\"/></a>"
      ]
    },
    {
      "cell_type": "markdown",
      "metadata": {
        "id": "X3BbngMjLb6N"
      },
      "source": [
        "#Learning Objectives\n",
        "\n",
        "* Loop basics\n",
        "* While loops\n",
        "* For loops\n",
        "* Loops and strings\n",
        "* Nested loops\n",
        "* Break and continue\n",
        "* Enumerations\n",
        "* Further info on switch statements\n",
        "\n",
        "\n",
        "\n",
        "A loop allows the programmer to execute a group of statements multiple times. The loop executes as long as the loop condition evaluates to true.\n",
        "\n",
        "Use the for loop to iterate through a sequence of values.\n",
        "```\n",
        "for (initialization; test; increment/decrement)\n",
        "{\n",
        "    loop body statement(s)\n",
        "}\n",
        "```\n",
        "\n",
        "How does the for loop work? The loop variable takes on each successive value in the sequence, and the statements in the body of the loop are executed once for each value.\n",
        "\n",
        "Examples of for loop uses:\n",
        "\n",
        "Handle a series of numbers. For example, if there are n numbers, the loop should execute n times. Keeping track of a running sum.\n",
        "\n",
        "With a for loop you need to know ahead of time how many numbers will be averaged. This type of loop is called a definite loop.\n",
        "\n",
        "The while loop is an example of an indefinite loop, which runs until a condition is met.\n",
        "\n",
        "while <condition>:\n",
        "   <body>\n",
        "   \n",
        "The condition is tested at the top of the loop. If the condition is initially false, the loop body will never execute.\n",
        "\n",
        "The while loop requires an additional consideration: the incrementing of the counter variable, i, at the bottom of the loop's body. This is handled automatically in the for loop.\n",
        "```\n",
        "while (condition)\n",
        "{\n",
        "   loop body statement(s)\n",
        "}\n",
        "```\n",
        "\n",
        "What would happen if we run the following code?  Note that i will always be <10, since the loop variable value never changed. This is an example of an infinite loop. \n",
        "\n",
        "```\n",
        "int i =  0;\n",
        "while (i < 10){\n",
        "    System.out.println(\"Hello\");\n",
        "    \n",
        "}\n",
        "```\n",
        "While loops can be used to write interactive loops.\n",
        "\n",
        "## Reference\n",
        "[Oracle's Java Reference](https://docs.oracle.com/javase/tutorial/index.html)"
      ]
    },
    {
      "cell_type": "markdown",
      "metadata": {
        "id": "fvM03-26BFD5"
      },
      "source": [
        "#Why Loops?\n",
        "It may not be immediately apparent why a loop is useful, so here are some examples:\n",
        "* Say you want to do the same thing (math equation or action) for every number in a range of 1 to 100,000.  A loop can do this very quickly with minimal code.\n",
        "* Say you want to do the same thing for every word in a sentance?  A loop can do this very quickly without error.\n",
        "* When you combine loops with If statements, that's where things get really powerful.  You can write code to analize each number in a range, or word in a sentance, or word in a giant text file and then use if statements to do different things, depending on what the word or number is.\n",
        "* Loops are the workhorses of code.  You can even do loops within loops, which are called nested loops!\n",
        "* ***History: Loops were a concept used long before computers were around to program, but the first person to use a software loop was Ada Lovelace (mathmatician), commonly known by her maiden name - Byron, while calculating Bernoulli numbers, back in the 19th century.  Ada invented programming on the first known theoretical \"Turing Machine\" designed by Charles Babage.  It was never constructed in his lifetime, but Ada understood Babbage's Analytical Engine well enough to extend its capabilities and inventing programming.***"
      ]
    },
    {
      "cell_type": "markdown",
      "metadata": {
        "id": "vh_enF9DTGRI"
      },
      "source": [
        "#Stopping a Notebook\n",
        "\n",
        "Loops are a lot of fun, BUT we have now entered into the Zone of code that can crash your computer or VM if you mess them up.  Stopping an endless loop in a Jupyter Notebook is quite easy, though.\n",
        "\n",
        "*When running the code, the 'play' button on the compile line will turn into a 'stop', which you can use to stop run away loops.*"
      ]
    },
    {
      "cell_type": "markdown",
      "metadata": {
        "id": "_Va4B9nwIFvt"
      },
      "source": [
        "#While Loops\n",
        "\n",
        "* While\n",
        "* While Do\n",
        "* https://www.w3schools.com/java/java_while_loop.asp"
      ]
    },
    {
      "cell_type": "code",
      "metadata": {
        "id": "jiFietrWIoK5"
      },
      "source": [
        "%%writefile Loops.java\n",
        "public class Loops{\n",
        "    public static void main(String [] args){\n",
        "        int num  = 5;\n",
        "\n",
        "        while (num < 10) {\n",
        "            System.out.println(\"our var's current value is \" + num + \" on the first line of the loop\");\n",
        "            System.out.println(\"now we will incrememt \" + num + \" by 1\");\n",
        "            num ++;\n",
        "            System.out.println(\"now our var is equal to \" + num + \".\");\n",
        "            System.out.println(\"---------------------------------------------\");\n",
        "        }\n",
        "    }\n",
        "}"
      ],
      "execution_count": null,
      "outputs": []
    },
    {
      "cell_type": "code",
      "metadata": {
        "id": "7Uo-r4l5JlxW"
      },
      "source": [
        "!javac Loops.java\n",
        "!java Loops"
      ],
      "execution_count": null,
      "outputs": []
    },
    {
      "cell_type": "code",
      "metadata": {
        "id": "Soa6zDv891jT"
      },
      "source": [
        "%%writefile DoWhile.java\n",
        "public class DoWhile {\n",
        "    \n",
        "    // do while loops are \"exit controlled\" meaning they exit after the task has been performed (at the end).config\n",
        "    // while loops are entry controlled, which means they exit before the task has been performed.\n",
        "    // The difference is that do while loops will execute the code exactly once even if the condition\n",
        "    // is not met (see below)\n",
        "\n",
        "    public static void main(String [] args){\n",
        "        int num = 5;\n",
        "        do {\n",
        "            System.out.println(\"our var's current value is \" + num + \" on the first line of the loop\");\n",
        "            System.out.println(\"now we will incrememt \" + num + \" by 1\");\n",
        "            num ++;\n",
        "            System.out.println(\"now our var is equal to \" + num + \".\");\n",
        "            System.out.println(\"---------------------------------------------\");\n",
        "        }\n",
        "        while (num < 1);  // it executes the code once.\n",
        "                           // change 1 to 10 like the while loop above, though and it will execute\n",
        "                           // the exact same number of times as the while loop\n",
        "    }\n",
        "\n",
        "}"
      ],
      "execution_count": null,
      "outputs": []
    },
    {
      "cell_type": "code",
      "metadata": {
        "id": "rlTvwMcQ-QuN"
      },
      "source": [
        "!javac DoWhile.java\n",
        "!java DoWhile"
      ],
      "execution_count": null,
      "outputs": []
    },
    {
      "cell_type": "code",
      "metadata": {
        "id": "gh0iK44uKpfy"
      },
      "source": [
        "%%writefile WhileDo.java\n",
        "public class WhileDo {\n",
        "    \n",
        "    // while do loops are \"exit controlled\" meaning they exit after the task has been performed (at the end).config\n",
        "    // while loops are entry controlled, which means they exit before the task has been performed.\n",
        "\n",
        "    public static void main(String [] args){\n",
        "        int num = 20;\n",
        "        do {\n",
        "            num = (num + 1) / 2;\n",
        "            System.out.println(\"Our variable is now equal to \" + num);\n",
        "        }\n",
        "        while (num > 1);\n",
        "    }\n",
        "\n",
        "}"
      ],
      "execution_count": null,
      "outputs": []
    },
    {
      "cell_type": "code",
      "metadata": {
        "id": "b_iKYv5FSuKq"
      },
      "source": [
        "!javac WhileDo.java\n",
        "!java WhileDo"
      ],
      "execution_count": null,
      "outputs": []
    },
    {
      "cell_type": "markdown",
      "metadata": {
        "id": "khQBmT6GIOf_"
      },
      "source": [
        "#For Loops"
      ]
    },
    {
      "cell_type": "markdown",
      "metadata": {
        "id": "4un6dBAmUN7g"
      },
      "source": [
        "#For and For Each Loops\n",
        "\n",
        "For loops come in two forms: for and for each!  Both are used for different things.\n",
        "\n",
        "* A for loop is entirely equivelent to a while loop, meaning any while loop can be written as a for loop.  The main difference is that a while loop states a condition, so is better suited for user input, while a for loop is optimized for setting a calculated number of loops using variables.\n",
        "\n",
        "* A for each loop is used to iterate over a the elements of an array.  This is extremely useful and will become even more useful when we get to arrays next week.\n",
        "\n",
        "* Link for both: https://www.w3schools.com/java/java_for_loop.asp \n",
        "\n"
      ]
    },
    {
      "cell_type": "code",
      "metadata": {
        "id": "oDdCQJaJVS3Y"
      },
      "source": [
        "%%writefile For.java\n",
        "public class For{\n",
        "    public static void main(String [] args){\n",
        "        String myString = \"I am a string!\";\n",
        "        \n",
        "        System.out.println(\"Letter     Position     Ascii\");\n",
        "\n",
        "\n",
        "        for (int i = 0; i < myString.length(); i++) {             /* first segment (int i = 0;) sets the value of i\n",
        "                                                                     second segment (i < myString.length();) sets the continuation conditions\n",
        "                                                                     third segment (i++) sets the action performed when the loop is finished\n",
        "                                                                  */\n",
        "                                                     \n",
        "            char charByChar = myString.charAt(i);                 /* Here we are putting the string value at position i into a char variable called\n",
        "                                                                     charBychar. Remember that chars can only hold one letter or symbol at a time.\n",
        "                                                                  */       \n",
        "\n",
        "            int castAscii = (int) charByChar;                     /* We are converting our character variable to an ascii code stored in the\n",
        "                                                                     castAscii variable.  Converting a var from one tye to another is called\n",
        "                                                                     \"casting\"\n",
        "                                                                  */\n",
        "            \n",
        "            System.out.println(\"  \" + charByChar + \"           \" + i + \"          \" + castAscii);\n",
        "            // If we want this printed all on the same line, we can change println to print\n",
        "            // See how the numbers above cause formatting issues?  We can fix that with some alignment\n",
        "            \n",
        "            // System.out.printf(\"  \" + charByChar + \"        %4d          \" + castAscii + \"%n\",i);\n",
        "            // What are the different formatting guidelines we're learning here?\n",
        "            // The even better way is to use string.format()\n",
        "        } \n",
        "    }\n",
        "}"
      ],
      "execution_count": null,
      "outputs": []
    },
    {
      "cell_type": "code",
      "metadata": {
        "id": "ZdS1WPL6ZLxf"
      },
      "source": [
        "!javac For.java\n",
        "!java For"
      ],
      "execution_count": null,
      "outputs": []
    },
    {
      "cell_type": "markdown",
      "metadata": {
        "id": "zEgGtWihePS9"
      },
      "source": [
        "#Java format method\n",
        "\n",
        "* https://dzone.com/articles/java-string-format-examples"
      ]
    },
    {
      "cell_type": "markdown",
      "source": [
        "# Java String Methods\n",
        "Java string methods are going to be very useful to you. W3schools has a good list/reference: https://www.w3schools.com/java/java_ref_string.asp\n"
      ],
      "metadata": {
        "id": "9Jk4RUTrwC7q"
      }
    },
    {
      "cell_type": "markdown",
      "metadata": {
        "id": "0nkhk_Tx1ZBL"
      },
      "source": [
        "#For Each Loops\n",
        "Demo, and we'll learn more about arrays next week!\n",
        "\n",
        "`for each` loops were created to avoid making traditional for loops that went through arrays/collections sequentially. We no longer need to specify a counter, set a starting position and an end position, manually index the array, and we no longer have to worry about boundaries - all of which can be very tedious to write out."
      ]
    },
    {
      "cell_type": "code",
      "metadata": {
        "id": "hluX8ca70fAL"
      },
      "source": [
        "%%writefile ForEach.java\n",
        "public class ForEach{\n",
        "    public static void main(String [] args){\n",
        "        String myString = \"I am a string!\";\n",
        "        \n",
        "        String [] myArray = myString.split(\" \");       // This uses the .split string method, to seperate each word into\n",
        "                                                       // a different item in the array.  Here we are spliting on a space\n",
        "                                                       // but you can split on anything, which is quite useful.\n",
        "\n",
        "        int arrayItem = 0;  // Note: there's no built-in var except a, so we must declare\n",
        "                            // arrayItem outside the loop to increment.\n",
        "        \n",
        "        // Now we're ready to itterate over myArray\n",
        "        // iterate means to perform an action for each item (in the array)\n",
        "        // then stop when there are no more items.\n",
        "\n",
        "        \n",
        "        for (String a : myArray) {\n",
        "            System.out.printf(\"%4d is the array position of \\\"\" + a + \"\\\". %n\",arrayItem); \n",
        "            \n",
        "            // To print the full string with spaces again, we could comment out the above and do:\n",
        "            // System.out.print(a + \" \");\n",
        "\n",
        "            // We increment the variable we declared outside of the array.  \n",
        "            arrayItem ++;\n",
        "\n",
        "        }\n",
        "    }\n",
        "}"
      ],
      "execution_count": null,
      "outputs": []
    },
    {
      "cell_type": "code",
      "metadata": {
        "id": "mYVikDM32JgF"
      },
      "source": [
        "!javac ForEach.java\n",
        "!java ForEach"
      ],
      "execution_count": null,
      "outputs": []
    },
    {
      "cell_type": "markdown",
      "metadata": {
        "id": "31vvfq_ZDBI-"
      },
      "source": [
        "#Nested Loops\n",
        "\n",
        "For loops and while loops are equivellent.  How would you implement this in a while loop?\n"
      ]
    },
    {
      "cell_type": "code",
      "metadata": {
        "id": "xUav5pEEGxpV"
      },
      "source": [
        "%%writefile NestedLoop.java\n",
        "public class NestedLoop{\n",
        "    public static void main(String [] args){\n",
        "        for (int x = 1; x <= 10; x++) {\n",
        "            for (int y = 1; y <= 10; y++) {\n",
        "                  System.out.printf(\"%4d\", x * y);    \n",
        "            }    System.out.println();\n",
        "        }\n",
        "    }\n",
        "}"
      ],
      "execution_count": null,
      "outputs": []
    },
    {
      "cell_type": "code",
      "metadata": {
        "id": "IXnF1DD-HpMV"
      },
      "source": [
        "!javac NestedLoop.java\n",
        "!java NestedLoop"
      ],
      "execution_count": null,
      "outputs": []
    },
    {
      "cell_type": "markdown",
      "metadata": {
        "id": "Tm5S7xjmIQPt"
      },
      "source": [
        "# Loops, Strings, and Scanner\n",
        "You can use Scanner with a while loop as demo'ed below.  Say you have an end condition, like someone entering a particular word, or Scanner being empty, you can set that condition in a while loop.\n",
        "\n",
        "Here, the while loop with continue until the user inputs the string 'bye!' at which point the loop will stop.\n",
        "\n",
        "Take note of where the variables are declared here."
      ]
    },
    {
      "cell_type": "code",
      "source": [
        "%%writefile ScannerWhile.java\n",
        "import java.util.Scanner;\n",
        "\n",
        "public class ScannerWhile {\n",
        "       public static void main(String[] args) {\n",
        "        Scanner in = new Scanner(System.in);\n",
        "        System.out.println(\"Enter a word, you will be prompted for more, when you're done entering words, type 'bye!'\");\n",
        "        String word = in.nextLine();\n",
        "\n",
        "        \n",
        "       while ( !word.equals(\"bye!\") ) {\n",
        "           System.out.println(\"you entered the word \" + word);\n",
        "           System.out.println(\"enter another word\");\n",
        "           word = in.nextLine();\n",
        "           \n",
        "       }\n",
        "    }\n",
        "}"
      ],
      "metadata": {
        "id": "3F3qmfE1uHK0"
      },
      "execution_count": null,
      "outputs": []
    },
    {
      "cell_type": "code",
      "source": [
        "!javac ScannerWhile.java\n",
        "!java ScannerWhile"
      ],
      "metadata": {
        "id": "P89TBtbLuyYj"
      },
      "execution_count": null,
      "outputs": []
    },
    {
      "cell_type": "markdown",
      "metadata": {
        "id": "3KpopGtFHm_6"
      },
      "source": [
        "#Break, Continue, Label\n",
        "\n",
        "* Break and continue https://www.w3schools.com/java/java_break.asp\n",
        "* Labels https://www.tutorialspoint.com/How-to-use-labels-in-Java-code"
      ]
    },
    {
      "cell_type": "markdown",
      "metadata": {
        "id": "uz0N5FYAllyZ"
      },
      "source": [
        "#Fun with Enums\n",
        "\n",
        "https://www.w3schools.com/java/java_enums.asp\n"
      ]
    },
    {
      "cell_type": "markdown",
      "source": [
        "# Revisiting Switch\n",
        "   * We covered switch very briefly last week, but the only examples given were variable matches.  Note that switch conditions can be set in an evaluated mannor similar to other conditionals.  Example below.\n",
        "\n",
        "   * When you get into code efficiency and Big O notation, you'll find that for loops and switch statements are better (more efficient) for certain tasks.\n",
        "   * It is also important to be aware that switch statement behavior changes in different versions of Java. This is one of many reasons that standardizing on a Java version is important."
      ],
      "metadata": {
        "id": "nACz9cRlsdFS"
      }
    },
    {
      "cell_type": "code",
      "source": [
        "%%writefile Hello.java\n",
        "public class Hello {\n",
        "\n",
        "\tpublic static void main(String[] args) {\n",
        "\t\tint x = 1;\n",
        "\t\t\n",
        "\t\tswitch(x * 99) {\n",
        "\t\tcase (198 / 2):\n",
        "\t\t\tSystem.out.println(\"x is 1\");\n",
        "\t\t\tbreak;\n",
        "\t\tcase 198:\n",
        "\t\t\tSystem.out.println(\"x is 2\");\n",
        "\t\t\tbreak;\n",
        "\t\tdefault:\n",
        "\t\t\tSystem.out.println(\"x is not 1 or 2\");\n",
        "\t\t\tbreak;\n",
        "\t\t}\n",
        "\n",
        "\t}\n",
        "\n",
        "}"
      ],
      "metadata": {
        "id": "tU3ygQ78syXz"
      },
      "execution_count": null,
      "outputs": []
    },
    {
      "cell_type": "code",
      "source": [
        "!javac Hello.java\n",
        "!java Hello"
      ],
      "metadata": {
        "id": "YX3L0QWas6mF"
      },
      "execution_count": null,
      "outputs": []
    },
    {
      "cell_type": "markdown",
      "source": [
        "# Fun excercise!\n",
        "Run the code below (from the book) to print the Greek Alphabet.  Notice how the loop starts at 913 and goes until it becomes equal to 937.  Those numbers correspond to the Greek characters in Unicode. \n",
        "\n",
        "* In the provided codeblock with `A(17):` right above it, create an almost identical loop, with two changes: your range and the print statement you use.\n",
        "* Your first change will be to the range.  Your new loop will start with `i` equal to `0x1F600`, which is an int in base 16 (we use base 10 normally when doing math).  It should complete the loop when it becomes greater than or equal to `0x1F64F` (also in base 16).  You don't have to do anything special to make the program read base 16, it does it automatically.  You should only have to change the numbers in this line `for (int i = 913; i <= 937; i++) {`, the rest of the code is fine for this first part.\n",
        "* The second thing you're going to change is the way the unicode is output.  Instead of using `System.out.print((char) i);`, you're going to use `System.out.print(Character.toChars(i));`.\n",
        "* Other than those changes, your code will be exactly the same.\n",
        "* Create the code, save it, run it, and write down what it outputs in the `A(17):` section."
      ],
      "metadata": {
        "id": "xoJ-feH-xY03"
      }
    },
    {
      "cell_type": "code",
      "source": [
        "%%writefile FunWithChar.java\n",
        "public class FunWithChar{\n",
        "    public static void main(String [] args){\n",
        "        System.out.print(\"Greek alphabet: \");\n",
        "            for (int i = 913; i <= 937; i++) {\n",
        "            System.out.print((char) i);\n",
        "        }\n",
        "\n",
        "        System.out.println(\"\");\n",
        "\n",
        "    }\n",
        "}"
      ],
      "metadata": {
        "id": "C-blkls0yEJo"
      },
      "execution_count": null,
      "outputs": []
    },
    {
      "cell_type": "code",
      "source": [
        "!javac FunWithChar.java\n",
        "!java FunWithChar"
      ],
      "metadata": {
        "id": "6EaL7631yE3a"
      },
      "execution_count": null,
      "outputs": []
    },
    {
      "cell_type": "code",
      "source": [
        "%%writefile FunWithChar.java\n",
        "public class FunWithChar{\n",
        "    public static void main(String [] args){\n",
        "        System.out.print(\"Mystery Unicode: \");\n",
        "        \n",
        "        /* Your \n",
        "               Loop\n",
        "                   Here */\n",
        "\n",
        "    }\n",
        "}"
      ],
      "metadata": {
        "id": "OrsW3AWJyIUS"
      },
      "execution_count": null,
      "outputs": []
    },
    {
      "cell_type": "code",
      "source": [
        "!javac FunWithChar.java\n",
        "!java FunWithChar"
      ],
      "metadata": {
        "id": "FpbHBFt_yOCi"
      },
      "execution_count": null,
      "outputs": []
    }
  ]
}