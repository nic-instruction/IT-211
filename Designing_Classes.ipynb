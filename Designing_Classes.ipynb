{
  "nbformat": 4,
  "nbformat_minor": 0,
  "metadata": {
    "colab": {
      "name": "Designing Classes.ipynb",
      "private_outputs": true,
      "provenance": [],
      "collapsed_sections": [],
      "authorship_tag": "ABX9TyPxZ35AkqDBsWpCSuCgC5Io",
      "include_colab_link": true
    },
    "kernelspec": {
      "name": "python3",
      "display_name": "Python 3"
    }
  },
  "cells": [
    {
      "cell_type": "markdown",
      "metadata": {
        "id": "view-in-github",
        "colab_type": "text"
      },
      "source": [
        "<a href=\"https://colab.research.google.com/github/nic-instruction/IT-211/blob/main/Designing_Classes.ipynb\" target=\"_parent\"><img src=\"https://colab.research.google.com/assets/colab-badge.svg\" alt=\"Open In Colab\"/></a>"
      ]
    },
    {
      "cell_type": "markdown",
      "metadata": {
        "id": "L9jlfvbnhbee"
      },
      "source": [
        "# Topics\n",
        "\n",
        "* Objects and Classes basics\n",
        "* Using and defining classes\n",
        "* Mutators, accessors and private helper methods (getters & setters)\n",
        "* Constructors\n",
        "* Defining the main() in custom defined classes\n",
        "* Class unit testing"
      ]
    },
    {
      "cell_type": "markdown",
      "metadata": {
        "id": "AbwSpNfOp49F"
      },
      "source": [
        "# Just Doing Classes\n",
        "\n",
        "We will only be doing class creation this week, as I think it will be alot and we won't be able to get to arrays of objects.  Next week, we'll jump ahead two chapters to inheritance, and I'll give you any notes from the previous two chapters you might need to understand the inheritance chapter.  "
      ]
    },
    {
      "cell_type": "markdown",
      "metadata": {
        "id": "h6W53BuSmkoC"
      },
      "source": [
        "# Objects and Classes Basics\n",
        "\n",
        "* Good intro explanation of OOP with Java: https://www.w3schools.com/java/java_oop.asp\n",
        "* Creating Classes and Objects: https://www.w3schools.com/java/java_oop.asp\n",
        "\n",
        "# Quick Notes\n",
        "* Objects are built from classes.\n",
        "* You can instantiate multiple objects of the same class in your code.  We do this all the time with Strings, for example.  A String is an object of the class **java.lang.String**.\n",
        "* We build and use a single instance of Scanner the Scanner class a lot.\n",
        "* As you learned in \"Mutable Objects\", classes can have **attributes (also called instance variables)** which are value every object of that class posseses, though they often are mutable.  See below for how to construct a very simple class with two attributes that calls itself from main.\n",
        "* Instance variables (attributes) vs class variables: \"Class variables are allocated when the program begins and persist until the program ends. In contrast, instance variables… are allocated when the program creates new objects, and they are deleted when the object is garbage-collected.\" (From the book)"
      ]
    },
    {
      "cell_type": "code",
      "metadata": {
        "id": "ga5eAONUorne"
      },
      "source": [
        "%%writefile TestMe.java\n",
        "public class TestMe {\n",
        "    String test = \"I am a test\";\n",
        "    double pi = 3.14;\n",
        "\n",
        "    public static void main(String [] args){\n",
        "        TestMe testingTestMe = new TestMe();\n",
        "        System.out.println(testingTestMe.test + \" \" + testingTestMe.pi);\n",
        "\n",
        "    }\n",
        "}"
      ],
      "execution_count": null,
      "outputs": []
    },
    {
      "cell_type": "code",
      "metadata": {
        "id": "18UTJLaFrQTO"
      },
      "source": [
        "!javac TestMe.java \n",
        "!java TestMe"
      ],
      "execution_count": null,
      "outputs": []
    },
    {
      "cell_type": "markdown",
      "metadata": {
        "id": "I-EQGlKItlTw"
      },
      "source": [
        "# Attributes \n",
        "* https://www.w3schools.com/java/java_class_attributes.asp\n",
        "* Basically pre-declared variables that belong to classes and are allocated when a new object is made for the class.\n",
        "* You can set or access (if the variable is final) an attribute for an object using \"dot notation\".  In the case of our TestMe class, it has two attributes:\n",
        "* `test`, which is a string, and can be accessed via `testingTestMe.test`.\n",
        "* `pi`, which is a double and can be accessed via `testingTestMe.pi`\n",
        "* Both attributes can be set just as you would any other variable.\n",
        "* If you don't want the value of an attribute to be overwritten, declare it as final."
      ]
    },
    {
      "cell_type": "markdown",
      "metadata": {
        "id": "6ECrZl2osD1b"
      },
      "source": [
        "What if we wanted to set those variables to something else when we created the object?"
      ]
    },
    {
      "cell_type": "code",
      "metadata": {
        "id": "KOY4pQ2hsOd6"
      },
      "source": [
        "%%writefile TestMe.java\n",
        "public class TestMe {\n",
        "    String test = \"I am a test\";  // What happens when we make one of these final?\n",
        "    double pi = 3.14;\n",
        "\n",
        "    public static void main(String [] args){\n",
        "        TestMe testingTestMe = new TestMe();\n",
        "        TestMe newTestMe = new TestMe();\n",
        "        \n",
        "        // String mystring = new String();\n",
        "\n",
        "        String mystring = \"my string thing\"; \n",
        "        String myOtherString = \"I'm something tottally different!\";\n",
        "        \n",
        "        // Changing the value of both attributes.\n",
        "        // Accessing them via dot notation.\n",
        "        testingTestMe.test = \"I'm so new!!\";\n",
        "        testingTestMe.pi = 55.04;\n",
        "\n",
        "\n",
        "        System.out.println(testingTestMe.test + \" \" + testingTestMe.pi);\n",
        "        System.out.println(newTestMe.test + \" \" + newTestMe.pi);\n",
        "    }\n",
        "}"
      ],
      "execution_count": null,
      "outputs": []
    },
    {
      "cell_type": "code",
      "metadata": {
        "id": "Jg0tKAtfsRdx"
      },
      "source": [
        "!javac TestMe.java \n",
        "!java TestMe"
      ],
      "execution_count": null,
      "outputs": []
    },
    {
      "cell_type": "markdown",
      "metadata": {
        "id": "eEEH3qtazGoM"
      },
      "source": [
        "# Non-Static Methods\n",
        "* Remember we said that most methods were not static, but we would worry about that later?  This is later!  Now that we're writing and invoking our own classes, we can start treating methods in the common way.\n",
        "* Most methods are accessed through the name of the object their class has been invoked in, usiung dot notation.  So, for example, if I had a method called `printRandNumber()` in a class called `PrintWeirdThings` and I created an instance of the class using the code `PtrintWeirdThings myObj = new PrintWeirdThings();` then I could access `.printRandNumber()` via the object, like so `myObj.printRandNumber()`\n",
        "* If a method is **static**, it does not invoke the class and cannot use class properties.  It is accessed via `Classname.methodName()`.\n",
        "* if a method is **not static**, as most aren't it is accessed by `ClassObjectName.methodName()`.\n",
        "* Check out the method modifiers on this page for a list of the ways you can alter the behavior of methods when they're declared: https://www.w3schools.com/java/java_modifiers.asp"
      ]
    },
    {
      "cell_type": "code",
      "metadata": {
        "id": "hEdHdu5D1YB-"
      },
      "source": [
        "%%writefile PrintWeirdThings.java\n",
        "import java.util.Random;\n",
        "\n",
        "public class PrintWeirdThings{\n",
        "    String asciiArt =  \"                                              \\n\"\n",
        "\t\t+ \"                                        (     \\n\"\n",
        "\t\t+ \" (       )    )     (  (     (  (  (    )\\\\ )  \\n\"\n",
        "\t\t+ \" )\\\\   ( /(   (      )\\\\))(   ))\\\\ )\\\\ )(  (()/(  \\n\"\n",
        "\t\t+ \"((_)  )(_))  )\\\\  ' ((_)()\\\\ /((_|(_|()\\\\  ((_)) \\n\"\n",
        "\t\t+ \" (_) ((_)_ _((_))  _(()((_|_))  (_)((_) _| |  \\n\"\n",
        "\t\t+ \" | | / _` | '  \\\\() \\\\ V  V / -_) | | '_/ _` |  \\n\"\n",
        "\t\t+ \" |_| \\\\__,_|_|_|_|   \\\\_/\\\\_/\\\\___| |_|_| \\\\__,_|\";\n",
        "\n",
        "    String weirdSayings = \"\";\n",
        "\n",
        "    public static void main(String [] args) {\n",
        "        PrintWeirdThings myObj = new PrintWeirdThings();\n",
        "        System.out.println(\"Some random weird things in here.\");\n",
        "        System.out.println(myObj.asciiArt + \"\\n\\n\");\n",
        "\n",
        "        System.out.println(\"Here's a random number for you:\");\n",
        "        System.out.println(myObj.printRandomNumber());\n",
        "\n",
        "        myObj.weirdSayings = \"Let the cat out of the bag.\";\n",
        "        System.out.println(\"\\nIf you think about it, this is a weird saying:\\n\" + myObj.weirdSayings);\n",
        "        \n",
        "        System.out.println(myObj.printRandomNumberStatic());\n",
        "        System.out.println(PrintWeirdThings.printRandomNumberStatic());\n",
        "        \n",
        "    }\n",
        "\n",
        "    public int printRandomNumber() {\n",
        "        Random rand = new Random();\n",
        "        int result = rand.nextInt();\n",
        "\n",
        "        return result;\n",
        "        \n",
        "    }\n",
        "\n",
        "    public static int printRandomNumberStatic() {\n",
        "        Random rand = new Random();\n",
        "        int result = rand.nextInt();\n",
        "\n",
        "        return result;\n",
        "    }\n",
        "    \n",
        "}"
      ],
      "execution_count": null,
      "outputs": []
    },
    {
      "cell_type": "code",
      "metadata": {
        "id": "aCEoYOAC1X1e"
      },
      "source": [
        "!javac PrintWeirdThings.java\n",
        "!java PrintWeirdThings"
      ],
      "execution_count": null,
      "outputs": []
    },
    {
      "cell_type": "markdown",
      "metadata": {
        "id": "PriPtkothVVr"
      },
      "source": [
        "# Constructors & `this`\n",
        "\n",
        "* Constructors initialize the object.\n",
        "* The name of the constructor is the same as the name of the class.\n",
        "* Constructors have no return type (and no return value).\n",
        "* The keyword static is omitted.\n",
        "* If you don't make a constructor, Java provides a default one, as you saw above, but you can't pass arguments to it.\n",
        "* Use the keyword `this` in your constructor to refer to the current constructor, it can also be used to refer to the current object.  It is super useful, as you will see.\n",
        "* Constructors allow you to create parameters for a class, just as you would for a method.\n",
        "* Good examples: https://www.w3schools.com/java/java_constructors.asp\n"
      ]
    },
    {
      "cell_type": "code",
      "metadata": {
        "id": "5NuFJXuNgbt1"
      },
      "source": [
        "%%writefile PrintWeirdThings.java\n",
        "import java.util.Random;\n",
        "\n",
        "public class PrintWeirdThings{\n",
        "    private String asciiArt;\n",
        "    private String weirdSayings;\n",
        "\n",
        "    public PrintWeirdThings(){\n",
        "        this.asciiArt = \"                                              \\n\"\n",
        "\t\t+ \"                                        (     \\n\"\n",
        "\t\t+ \" (       )    )     (  (     (  (  (    )\\\\ )  \\n\"\n",
        "\t\t+ \" )\\\\   ( /(   (      )\\\\))(   ))\\\\ )\\\\ )(  (()/(  \\n\"\n",
        "\t\t+ \"((_)  )(_))  )\\\\  ' ((_)()\\\\ /((_|(_|()\\\\  ((_)) \\n\"\n",
        "\t\t+ \" (_) ((_)_ _((_))  _(()((_|_))  (_)((_) _| |  \\n\"\n",
        "\t\t+ \" | | / _` | '  \\\\() \\\\ V  V / -_) | | '_/ _` |  \\n\"\n",
        "\t\t+ \" |_| \\\\__,_|_|_|_|   \\\\_/\\\\_/\\\\___| |_|_| \\\\__,_|\";\n",
        "\n",
        "        this.weirdSayings = \"Bertrand said it, and I'll say it again!  There's always a prime number between n and 2n\";\n",
        "    }\n",
        "\n",
        "    public PrintWeirdThings(String asciiArt, String weirdSayings) {\n",
        "        this.asciiArt = asciiArt;\n",
        "        this.weirdSayings = weirdSayings; \n",
        "    }\n",
        "\n",
        "    public static void main(String [] args) {\n",
        "        PrintWeirdThings myObj = new PrintWeirdThings(\";)\", \"The same thing we do every night Pinki, try to take over the world!\");\n",
        "        PrintWeirdThings myStandardObject = new PrintWeirdThings();\n",
        "        System.out.println(\"Standard Object: \\nascii art:\\n\" + myStandardObject.asciiArt + \"\\nweirdSayings: \" + myStandardObject.weirdSayings);\n",
        "        System.out.println(myObj.asciiArt + \"\\n\\n\");\n",
        "\n",
        "        System.out.println(\"Here's a random number for you:\");\n",
        "        System.out.println(myObj.printRandomNumber());\n",
        "\n",
        "        System.out.println(\"\\nA weird saying: \" + myObj.weirdSayings);\n",
        "        \n",
        "    }\n",
        "\n",
        "    public int printRandomNumber() {\n",
        "        Random rand = new Random();\n",
        "        int result = rand.nextInt();\n",
        "\n",
        "        return result;\n",
        "        \n",
        "    }\n",
        "    \n",
        "}"
      ],
      "execution_count": null,
      "outputs": []
    },
    {
      "cell_type": "code",
      "metadata": {
        "id": "l30Vsd5Lh0ab"
      },
      "source": [
        "!javac PrintWeirdThings.java\n",
        "!java PrintWeirdThings"
      ],
      "execution_count": null,
      "outputs": []
    },
    {
      "cell_type": "markdown",
      "metadata": {
        "id": "g8SU9mchltEH"
      },
      "source": [
        "# Getters and Setters (Formal Name for Getters is Accessors and Formal Name for Setters is Mutators)\n",
        "\n",
        "* Methods for getting values from private attributes.\n",
        "* Methods for setting values of private attributes.\n",
        "\n",
        "* getSomething()\n",
        "* setSomething()\n",
        "\n",
        "```java\n",
        "// Getter\n",
        "public String getAsciiArt() {\n",
        "    return this.asciiArt;\n",
        "}\n",
        "\n",
        "// Setter\n",
        "public void setWeirdSayings(string weirdSayings) {\n",
        "    this.weirdSayings = weirdSayings;\n",
        "}\n",
        "\n",
        "```"
      ]
    },
    {
      "cell_type": "markdown",
      "metadata": {
        "id": "gxZYo-Dlzi0T"
      },
      "source": [
        "# Private Helper Methods\n",
        "\n",
        "* Private helper methods are just methods that can be called by other methods within the class to perform tasks, they cannot be called by users of the class, or anything outside the class.\n",
        "\n",
        "* A private helper method could have a definition like `private int fibinacci(int x)`\n",
        "\n",
        "* They're like class-specific utilities and can be used to store algorithms, etc. that should be inaccessible to the outside world, but is needed in performing the duties of the class."
      ]
    },
    {
      "cell_type": "markdown",
      "metadata": {
        "id": "MLCftIHcvc7k"
      },
      "source": [
        "#Putting it all together\n",
        "\n",
        "Let's make a fully fledged class with instance variables, constructors getters, setters, equals & toString methods, and something fun in the main method.  Note: you will need to go through the same steps for one of your homework labs, so please ask questions if you don't understand some part of what we're doing!"
      ]
    },
    {
      "cell_type": "code",
      "metadata": {
        "id": "Dj8vOtM0MH28"
      },
      "source": [
        "%%writefile Card.java\n",
        "import java.util.Random; // for default constructor\n",
        "\n",
        "// Class definition                 (task 1)\n",
        "public class Card {\n",
        "    // instance variable 1          (task 1) Note: these should probobly be private, since there are getters and setters.\n",
        "    // instance variable 2          (task 1) Note: these should probobly be private, since there are getters and setters.\n",
        "    // 52 cards in a dick\n",
        "    // Spade = 0, Club = 1, Diamond, Heart \n",
        "    // 1 - 13\n",
        "    public static final String[] RANKS = {null, \"Ace\", \"2\", \"3\", \"4\", \"5\", \"6\", \"7\", \"8\", \"9\", \"10\", \"Jack\", \"Queen\", \"King\"};\n",
        "    public static final String[] SUITS = {\"Clubs\", \"Diamonds\", \"Hearts\", \"Spades\"};\n",
        "\n",
        "    private int rank;\n",
        "    private int suit;\n",
        "\n",
        "    // default constructor - we'll make it give us a random card\n",
        "    public Card() {\n",
        "        Random rand = new Random();\n",
        "        this.rank = rand.nextInt(14);\n",
        "        this.suit = rand.nextInt(4);\n",
        "    }\n",
        "\n",
        "\n",
        "    \n",
        "    // constructor                  (task 2)\n",
        "    public Card(int rank, int suit) {\n",
        "        this.rank = rank;\n",
        "        this.suit = suit;\n",
        "    }\n",
        "\n",
        "   // main method                  (task 4)                                 \n",
        "    public static void main(String [] args) {\n",
        "        Card myDefaultCard = new Card();\n",
        "        System.out.println(myDefaultCard);\n",
        "        Card myCard = new Card(1, 3);\n",
        "        Card myCard2 = new Card(1, 3);\n",
        "        System.out.println(myCard);\n",
        "        System.out.println(\"my card has rank: \" + myCard.getRank() + \" my card has suit: \" +\n",
        "                           myCard.getSuit() + \" changing my card suit.\");\n",
        "        \n",
        "        System.out.println(\"Are my two cards equal? \" + myCard.equals(myCard2));\n",
        "\n",
        "        Card [] deck = makeDeck();\n",
        "        printDeck(deck);\n",
        "        \n",
        "        }\n",
        "                           \n",
        "    \n",
        "\n",
        "    // class-specific method        (task 3)\n",
        "\n",
        "\n",
        "\n",
        "    // toString method              (task 5)\n",
        "        public String toString() {\n",
        "        return RANKS[this.rank] + \" of \" + SUITS[this.suit];\n",
        "    }\n",
        "\n",
        "\n",
        "    // equals method                (task 5)\n",
        "    public boolean equals(Card that) {\n",
        "        if (this.rank == that.rank && this.suit == that.suit ) {\n",
        "            return true;\n",
        "        } else {\n",
        "            return false;\n",
        "        }\n",
        "    }\n",
        "\n",
        "\n",
        "    // getter method for instance variable 1        (task 6)\n",
        "    // getter method for instance variable 2        (task 6)\n",
        "\n",
        "    public int getRank() {\n",
        "        return this.rank;\n",
        "    }\n",
        "\n",
        "    public int getSuit() {\n",
        "        return this.suit;\n",
        "    }\n",
        "\n",
        "    // setter method for instance variable 1        (task 6)\n",
        "    // setter method for instance variable 2        (task 6) \n",
        "\n",
        "    public void setSuit(int suit) {\n",
        "        this.suit = suit;\n",
        "    }\n",
        "\n",
        "    public void setRank(int rank) {\n",
        "        this.rank = rank;\n",
        "    }\n",
        "    public static void printDeck(Card[] cards) {\n",
        "        for (Card card : cards) {\n",
        "            System.out.println(card);\n",
        "        }\n",
        "    }\n",
        "\n",
        "\n",
        "    public static Card [] makeDeck() {\n",
        "        // That's right!  You can make an array of objects!!\n",
        "        Card[] cards = new Card[52];\n",
        "        int index = 0;\n",
        "        for (int suit = 0; suit <= 3; suit++) {\n",
        "            for (int rank = 1; rank <= 13; rank++) {\n",
        "                cards[index] = new Card(rank, suit);\n",
        "                index++;\n",
        "            }\n",
        "        }\n",
        "        return cards;\n",
        "    }\n",
        "\n",
        "}"
      ],
      "execution_count": null,
      "outputs": []
    },
    {
      "cell_type": "code",
      "metadata": {
        "id": "XF45JBIkMLyK"
      },
      "source": [
        "!javac Card.java \n",
        "!java Card"
      ],
      "execution_count": null,
      "outputs": []
    },
    {
      "cell_type": "markdown",
      "source": [
        "# Lab 1\n",
        "\n",
        "From the book!  I have outlined examples of the various tasks above in the code for the card class.  Your job is to make a diffeent class called *Tile* that represents a scrabble tile.  The steps are the same, but your code will be different, because you're making tiles, not cards.\n",
        "\n",
        "## Exercise 11-2.\n",
        "In the board game Scrabble, each tile contains a letter, which is used to spell words in rows and columns, and a score, which is used to determine the value of words. The point of this exercise is to practice the mechanical part of creating a new class definition.\n",
        "\n",
        "1) Write a definition for a class named Tile that represents Scrabble tiles. The instance variables should include a character named letter and an integer named value.\n",
        "\n",
        "2) Write a constructor that takes parameters named letter and value, and initializes the instance variables.\n",
        "\n",
        "3) Write a method named printTile that takes a Tile object as a parameter and displays the instance variables in a reader-friendly format.\n",
        "\n",
        "4) Write a main method that creates a Tile object with the letter Z and the value 10, and then uses printTile to display the state of the object.\n",
        "\n",
        "5) Implement the toString and equals methods for a Tile.\n",
        "\n",
        "6) Create getters and setters for each of the attributes."
      ],
      "metadata": {
        "id": "JdBKjkAitLap"
      }
    },
    {
      "cell_type": "code",
      "source": [
        "%%writefile Tile.java\n",
        "public class Tile {\n",
        "    public static void main(String [] args) {\n",
        "        \n",
        "        \n",
        "    }\n",
        "}"
      ],
      "metadata": {
        "id": "nYNgVoMVvFbY"
      },
      "execution_count": null,
      "outputs": []
    },
    {
      "cell_type": "code",
      "source": [
        "!javac Tile.java\n",
        "!java Tile"
      ],
      "metadata": {
        "id": "A_Kiti8JvFMD"
      },
      "execution_count": null,
      "outputs": []
    }
  ]
}