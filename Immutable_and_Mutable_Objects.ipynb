{
  "nbformat": 4,
  "nbformat_minor": 0,
  "metadata": {
    "colab": {
      "name": "Immutable and Mutable Objects.ipynb",
      "private_outputs": true,
      "provenance": [],
      "collapsed_sections": [],
      "authorship_tag": "ABX9TyMJJQ1WraRNY16rv/Qdbsiz",
      "include_colab_link": true
    },
    "kernelspec": {
      "name": "python3",
      "display_name": "Python 3"
    }
  },
  "cells": [
    {
      "cell_type": "markdown",
      "metadata": {
        "id": "view-in-github",
        "colab_type": "text"
      },
      "source": [
        "<a href=\"https://colab.research.google.com/github/nic-instruction/IT-211/blob/main/Immutable_and_Mutable_Objects.ipynb\" target=\"_parent\"><img src=\"https://colab.research.google.com/assets/colab-badge.svg\" alt=\"Open In Colab\"/></a>"
      ]
    },
    {
      "cell_type": "markdown",
      "metadata": {
        "id": "L9jlfvbnhbee"
      },
      "source": [
        "# Topics\n",
        "\n",
        "* Objects\n",
        "* Integer, Double, Boolean, and other useful immutable objects\n",
        "* Command line arguments\n",
        "* JUnit Testing (Class Unit Testing)\n"
      ]
    },
    {
      "cell_type": "markdown",
      "metadata": {
        "id": "AbwSpNfOp49F"
      },
      "source": [
        "# Just Doing Classes\n",
        "\n",
        "We will only be doing class creation this week, as I think it will be alot and we won't be able to get to arrays of objects.  Next week, we'll jump ahead two chapters to inheritance, and I'll give you any notes from the previous two chapters you might need to understand the inheritance chapter.  "
      ]
    },
    {
      "cell_type": "markdown",
      "metadata": {
        "id": "h6W53BuSmkoC"
      },
      "source": [
        "# Objects and Classes Basics\n",
        "\n",
        "* Good intro explanation of OOP with Java: https://www.w3schools.com/java/java_oop.asp\n",
        "\n",
        "\n",
        "# Quick Notes\n",
        "* Objects are built from classes.\n",
        "* You can instantiate multiple objects of the same class in your code.  We do this all the time with Strings, for example.  A String is an object of the class **java.lang.String**.\n",
        "* We build and use a single instance of Scanner the Scanner class a lot.\n",
        "* As you learned in \"Mutable Objects\", classes can have **attributes** which are values of the class."
      ]
    },
    {
      "cell_type": "markdown",
      "source": [
        "# Command Line Arguments\n",
        "Now that we know how arrays work, and what methods are, we can finally look at what `public static void main(String [] args){` actually does and how to parse the args array.  Yay!"
      ],
      "metadata": {
        "id": "Pmf7JjzWvKlC"
      }
    },
    {
      "cell_type": "code",
      "metadata": {
        "id": "ga5eAONUorne"
      },
      "source": [
        "%%writefile TestMe.java\n",
        "import java.util.Arrays;\n",
        "\n",
        "public class TestMe {\n",
        "    public static void main(String [] args){\n",
        "        System.out.println(Arrays.toString(args));\n",
        "    }\n",
        "}"
      ],
      "execution_count": null,
      "outputs": []
    },
    {
      "cell_type": "code",
      "metadata": {
        "id": "18UTJLaFrQTO"
      },
      "source": [
        "!javac TestMe.java \n",
        "!java TestMe I am a set of arguments"
      ],
      "execution_count": null,
      "outputs": []
    },
    {
      "cell_type": "markdown",
      "source": [
        "# Converting Integers from a string using the Integer Class\n",
        "\n",
        "You can use the same method to pass numbers in on the command line.  To get them out of their string form, use `Integer.parseInt()` for integers (similar methods exist for doubles, longs, etc."
      ],
      "metadata": {
        "id": "si9CL0HIyEMi"
      }
    },
    {
      "cell_type": "code",
      "source": [
        "%%writefile TestMe.java\n",
        "import java.util.Arrays;\n",
        "\n",
        "public class TestMe {\n",
        "    public static void main(String [] args){\n",
        "        System.out.println(Arrays.toString(args));\n",
        "        int [] intArray = new int[args.length];\n",
        "        int counter = 0;\n",
        "\n",
        "\n",
        "        for (String a: args) {\n",
        "            intArray[counter] = Integer.parseInt(a);  // use the parseInt() method of integer to convert a string representation of an integer to an integer \n",
        "            intArray[counter] ++; // to show that it's an integer, let's increment it\n",
        "\n",
        "            counter ++; // increment the counter\n",
        "        }\n",
        "        \n",
        "        System.out.println(Arrays.toString(intArray));  // print the output of intArray to show every value has been incremented by 1.\n",
        "\n",
        "    }\n",
        "}"
      ],
      "metadata": {
        "id": "tvI-wGiOwKTr"
      },
      "execution_count": null,
      "outputs": []
    },
    {
      "cell_type": "code",
      "source": [
        "!javac TestMe.java \n",
        "!java TestMe 1 2 3 4 5"
      ],
      "metadata": {
        "id": "i52hfLwuwKG6"
      },
      "execution_count": null,
      "outputs": []
    },
    {
      "cell_type": "markdown",
      "source": [
        "# Validation Methods\n",
        "The book gives a number of example ways to validate input.  If you're writing code that takes input, it's a good idea to validate it and provide useful feedback to the user or program about the expected syntax.  Here are a couple of the book's examples below."
      ],
      "metadata": {
        "id": "StxrGml62In_"
      }
    },
    {
      "cell_type": "code",
      "source": [
        "%%writefile TestMe.java\n",
        "import java.util.Arrays;\n",
        "\n",
        "public class TestMe {\n",
        "    public static void main(String [] args){\n",
        "        System.out.println(Arrays.toString(args));\n",
        "\n",
        "    }\n",
        "    public static boolean isCapitalized(String str) {\n",
        "        if (str == null || str.isEmpty()) {\n",
        "            return false;\n",
        "        }\n",
        "        return Character.isUpperCase(str.charAt(0));\n",
        "    }\n",
        "    \n",
        "}"
      ],
      "metadata": {
        "id": "s-r6aQ8v2aAe"
      },
      "execution_count": null,
      "outputs": []
    },
    {
      "cell_type": "code",
      "source": [
        "!javac TestMe.java \n",
        "!java TestMe Hello how are you doing"
      ],
      "metadata": {
        "id": "NkuuyRl22aku"
      },
      "execution_count": null,
      "outputs": []
    },
    {
      "cell_type": "markdown",
      "source": [
        "# BigInteger / BigDecimal\n",
        "\n",
        "BigInteger and BigDecimal can be used to represent numbers that exceed the limits of primitive datatypes.  Remember how I told you at the beginning of the quarter there was a better way to do big numbers?  This is it!\n",
        "\n",
        "As seen below, it's trivial to convert string representations of these numbers into these numbers, as seen below.  This makes it easy to read them from input by getting them out of the `args` array and then putting them into a BigInteger (or BigDecimal) array (yes, you can makes arrays out of objects, we're skipping that bit in the book to get to class construction, so here you go!)\n",
        "\n",
        "The internal structure of both classes is interesting (from the book):\n",
        "\n",
        "\"Internally, a BigInteger is implemented using an array of ints, similar to the way a string is implemented using an array of chars. Each int in the array stores a portion of the BigInteger. The methods of BigInteger traverse this array to perform addition, multiplication, etc.\n",
        "\n",
        "For very long floating-point values, take a look at java.math.BigDecimal. Interestingly, BigDecimal objects represent floating-point numbers internally by using a BigInteger!\" \n",
        "\n",
        "https://learning.oreilly.com/library/view/think-java-2nd/9781492072492/ch09.html#a0000006914"
      ],
      "metadata": {
        "id": "Bam_W-KEAb1r"
      }
    },
    {
      "cell_type": "code",
      "source": [
        "%%writefile BigInt.java\n",
        "import java.util.Arrays;\n",
        "import java.math.BigInteger;\n",
        "\n",
        "public class BigInt {\n",
        "    public static void main(String [] args){\n",
        "        System.out.println(Arrays.toString(args));\n",
        "        BigInteger [] bigArr = new BigInteger[args.length];\n",
        "        BigInteger b = BigInteger.valueOf(2);\n",
        "        BigInteger sum;\n",
        "        int i = 0;\n",
        "\n",
        "        for (String a : args) {\n",
        "            BigInteger temp = new BigInteger(a);  // put string a into a BigInt named temp\n",
        "            sum = b.add(temp);    // add b and a (currently assigned as a bigint to variable called temp), and assign the value to sum\n",
        "            bigArr[i] = sum;      // assign sum to the array of bigints \n",
        "            i ++;                // manually incredment i, since this is an enhanced for loop\n",
        "        }\n",
        "        \n",
        "        System.out.println(Arrays.toString(bigArr));\n",
        "\n",
        "    }    \n",
        "}"
      ],
      "metadata": {
        "id": "R-i0kZ0w3qur"
      },
      "execution_count": null,
      "outputs": []
    },
    {
      "cell_type": "code",
      "source": [
        "!javac BigInt.java \n",
        "!java BigInt 1000000000000000000 20000000000000000000000000000000000 9 20"
      ],
      "metadata": {
        "id": "XCErY70l3qjf"
      },
      "execution_count": null,
      "outputs": []
    },
    {
      "cell_type": "markdown",
      "metadata": {
        "id": "I-EQGlKItlTw"
      },
      "source": [
        "# Attributes \n",
        "* https://www.w3schools.com/java/java_class_attributes.asp\n",
        "* Basically pre-declared variables that belong to classes\n",
        "* You can set an attribute for an object using \"dot notation\".  In the case of our TestMe class, it has two attributes:\n",
        "* `test`, which is a string, and can be accessed via `testingTestMe.test`.\n",
        "* `pi`, which is a double and can be accessed via `testingTestMe.pi`\n",
        "* Both attributes can be set just as you would any other variable.\n",
        "* If you don't want the value of an attribute to be overwritten, declare it as final."
      ]
    },
    {
      "cell_type": "markdown",
      "metadata": {
        "id": "6ECrZl2osD1b"
      },
      "source": [
        "What if we wanted to set those variables to something else when we created the object?"
      ]
    },
    {
      "cell_type": "code",
      "metadata": {
        "id": "KOY4pQ2hsOd6"
      },
      "source": [
        "%%writefile TestMe.java\n",
        "public class TestMe {\n",
        "    String test = \"I am a test\";  // What happens when we make one of these final?\n",
        "    double pi = 3.14;\n",
        "\n",
        "    public static void main(String [] args){\n",
        "        TestMe testingTestMe = new TestMe();\n",
        "        TestMe newTestMe = new TestMe();\n",
        "        \n",
        "        // String mystring = new String();\n",
        "\n",
        "        String mystring = \"my string thing\"; \n",
        "        String myOtherString = \"I'm something tottally different!\";\n",
        "        \n",
        "        // Changing the value of both attributes.\n",
        "        // Accessing them via dot notation.\n",
        "        testingTestMe.test = \"I'm so new!!\";\n",
        "        testingTestMe.pi = 55.04;\n",
        "\n",
        "\n",
        "        System.out.println(testingTestMe.test + \" \" + testingTestMe.pi);\n",
        "        System.out.println(newTestMe.test + \" \" + newTestMe.pi);\n",
        "    }\n",
        "}"
      ],
      "execution_count": null,
      "outputs": []
    },
    {
      "cell_type": "code",
      "metadata": {
        "id": "Jg0tKAtfsRdx"
      },
      "source": [
        "!javac TestMe.java \n",
        "!java TestMe"
      ],
      "execution_count": null,
      "outputs": []
    },
    {
      "cell_type": "markdown",
      "metadata": {
        "id": "eEEH3qtazGoM"
      },
      "source": [
        "# Non-Static Methods\n",
        "* Remember we said that most methods were not static, but we would worry about that later?  This is later!  Now that we're writing and invoking our own classes, we can start treating methods in the common way.\n",
        "* Most methods are accessed through the name of the object their class has been invoked in, usiung dot notation.  So, for example, if I had a method called `printRandNumber()` in a class called `PrintWeirdThings` and I created an instance of the class using the code `PtrintWeirdThings myObj = new PrintWeirdThings();` then I could access `.printRandNumber()` via the object, like so `myObj.printRandNumber()`\n",
        "* If a method is **static**, it does not invoke the class and cannot use class properties.  It is accessed via `Classname.methodName()`.\n",
        "* if a method is **not static**, as most aren't it is accessed by `ClassObjectName.methodName()`.\n",
        "* Check out the method modifiers on this page for a list of the ways you can alter the behavior of methods when they're declared: https://www.w3schools.com/java/java_modifiers.asp"
      ]
    },
    {
      "cell_type": "code",
      "metadata": {
        "id": "hEdHdu5D1YB-"
      },
      "source": [
        "%%writefile PrintWeirdThings.java\n",
        "import java.util.Random;\n",
        "\n",
        "public class PrintWeirdThings{\n",
        "    String asciiArt =  \"                                              \\n\"\n",
        "\t\t+ \"                                        (     \\n\"\n",
        "\t\t+ \" (       )    )     (  (     (  (  (    )\\\\ )  \\n\"\n",
        "\t\t+ \" )\\\\   ( /(   (      )\\\\))(   ))\\\\ )\\\\ )(  (()/(  \\n\"\n",
        "\t\t+ \"((_)  )(_))  )\\\\  ' ((_)()\\\\ /((_|(_|()\\\\  ((_)) \\n\"\n",
        "\t\t+ \" (_) ((_)_ _((_))  _(()((_|_))  (_)((_) _| |  \\n\"\n",
        "\t\t+ \" | | / _` | '  \\\\() \\\\ V  V / -_) | | '_/ _` |  \\n\"\n",
        "\t\t+ \" |_| \\\\__,_|_|_|_|   \\\\_/\\\\_/\\\\___| |_|_| \\\\__,_|\";\n",
        "\n",
        "    String weirdSayings = \"\";\n",
        "\n",
        "    public static void main(String [] args) {\n",
        "        PrintWeirdThings myObj = new PrintWeirdThings();\n",
        "        System.out.println(\"Some random weird things in here.\");\n",
        "        System.out.println(myObj.asciiArt + \"\\n\\n\");\n",
        "\n",
        "        System.out.println(\"Here's a random number for you:\");\n",
        "        System.out.println(myObj.printRandomNumber());\n",
        "\n",
        "        myObj.weirdSayings = \"Let the cat out of the bag.\";\n",
        "        System.out.println(\"\\nIf you think about it, this is a weird saying:\\n\" + myObj.weirdSayings);\n",
        "        \n",
        "        System.out.println(myObj.printRandomNumberStatic());\n",
        "        System.out.println(PrintWeirdThings.printRandomNumberStatic());\n",
        "        \n",
        "    }\n",
        "\n",
        "    public int printRandomNumber() {\n",
        "        Random rand = new Random();\n",
        "        int result = rand.nextInt();\n",
        "\n",
        "        return result;\n",
        "        \n",
        "    }\n",
        "\n",
        "    public static int printRandomNumberStatic() {\n",
        "        Random rand = new Random();\n",
        "        int result = rand.nextInt();\n",
        "\n",
        "        return result;\n",
        "    }\n",
        "    \n",
        "}"
      ],
      "execution_count": null,
      "outputs": []
    },
    {
      "cell_type": "code",
      "metadata": {
        "id": "aCEoYOAC1X1e"
      },
      "source": [
        "!javac PrintWeirdThings.java\n",
        "!java PrintWeirdThings"
      ],
      "execution_count": null,
      "outputs": []
    },
    {
      "cell_type": "markdown",
      "source": [
        "# Lab 1 - Practice Method Encapsolation (from the book)\n",
        "\n",
        "Exercise 9-6.\n",
        "The following code fragment traverses a string and checks whether it has the same number of opening and closing parentheses:\n",
        "\n",
        "```\n",
        "String s = \"((3 + 7) * 2)\";\n",
        "int count = 0;\n",
        "\n",
        "for (int i = 0; i < s.length(); i++) {\n",
        "    char c = s.charAt(i);\n",
        "    if (c == '(') {\n",
        "        count++;\n",
        "    } else if (c == ')') {\n",
        "        count--;\n",
        "    }\n",
        "}\n",
        "\n",
        "System.out.println(count);\n",
        "\n",
        "```\n",
        "\n",
        "Encapsulate this fragment in a method that takes a string argument and returns the final value of `count`.\n",
        "\n",
        "Test your method with multiple strings, including some that are balanced and some that are not.\n",
        "\n",
        "Generalize the code so that it works on any string. What could you do to generalize it more?\n",
        "\n",
        "Write your method in the BigInt code below lab 2.  You should put the lab 2 method below that."
      ],
      "metadata": {
        "id": "xNSY1yqiDV0o"
      }
    },
    {
      "cell_type": "markdown",
      "source": [
        "# Lab 2 Practise Using BigInteger (from the book - slightly modified)\n",
        "\n",
        "Exercise 9-3.\n",
        "Many encryption algorithms depend on the ability to raise large integers to a power. Here is a method that implements an efficient algorithm for integer exponentiation:\n",
        "\n",
        "```\n",
        "public static int pow(int x, int n) {\n",
        "    if (n == 0) return 1;\n",
        "\n",
        "    // find x to the n/2 recursively\n",
        "    int t = pow(x, n / 2);\n",
        "\n",
        "    // if n is even, the result is t squared\n",
        "    // if n is odd, the result is t squared times x\n",
        "    if (n % 2 == 0) {\n",
        "        return t * t;\n",
        "    } else {\n",
        "        return t * t * x;\n",
        "    }\n",
        "}\n",
        "\n",
        "```\n",
        "\n",
        "The problem with this method is that it works only if the result is small enough to be represented by an int. Rewrite it so that the result is a BigInteger. The parameters should still be integers, though.\n",
        "\n",
        "You should use the BigInteger methods add and multiply. Unlike the book, I encourage you to use BigInteger.pow() as well to find x to the n/2.\n",
        "\n",
        "Write your method in the BigInt code below.  You can use the code in the main body of the BigInt code to help you with the translation.\n"
      ],
      "metadata": {
        "id": "GZMtcrGhD3ze"
      }
    },
    {
      "cell_type": "code",
      "source": [
        "%%writefile BigInt.java\n",
        "import java.util.Arrays;\n",
        "import java.math.BigInteger;\n",
        "\n",
        "public class BigInt {\n",
        "    public static void main(String [] args){\n",
        "        System.out.println(Arrays.toString(args));\n",
        "        BigInteger [] bigArr = new BigInteger[args.length];\n",
        "        BigInteger b = BigInteger.valueOf(2);\n",
        "        BigInteger sum;\n",
        "        int i = 0;\n",
        "\n",
        "        for (String a : args) {\n",
        "            BigInteger temp = new BigInteger(a);  // put string a into a BigInt named temp\n",
        "            sum = b.add(temp);    // add b and a (currently assigned as a bigint to variable called temp), and assign the value to sum\n",
        "            bigArr[i] = sum;      // assign sum to the array of bigints \n",
        "            i ++;                // manually incredment i, since this is an enhanced for loop\n",
        "        }\n",
        "        \n",
        "        System.out.println(Arrays.toString(bigArr));\n",
        "\n",
        "    } \n",
        "\n",
        "    // write lab 1 method here\n",
        "\n",
        "    // write lab 2 method here   \n",
        "}"
      ],
      "metadata": {
        "id": "oIs_izGSDyuW"
      },
      "execution_count": null,
      "outputs": []
    },
    {
      "cell_type": "code",
      "source": [
        "!javac BigInt.java\n",
        "!java BigInt 100000000000 300000000000000000000000000000000000 2 40000"
      ],
      "metadata": {
        "id": "8a6bnk54D0SF"
      },
      "execution_count": null,
      "outputs": []
    },
    {
      "cell_type": "markdown",
      "source": [
        "# Lab 3 JUnit Testing!\n",
        "\n",
        "Normally I teach this along with class design over the course of a few weeks but we're running low on time, so we're going to tack it onto the end of the this week!\n",
        "\n",
        "JUnit testing is used to make sure your code works even after it's modified.  It is a part of your code.  When you add more features, you should add more JUnit tests to make sure they are behaving correctly.  There's a whole theory of development called 'test driven development' that says you should always write your JUnit tests first and THEN write your code in order to pass the tests.\n",
        "\n",
        "Java is often used along-side build tools like Gradle and Maven which have places for you to put JUnit tests where they will be run.  If your code does not pass those tests the build will fail.\n",
        "\n",
        "Read the book's explanation of JUnit tests here:\n",
        "\n",
        "https://learning.oreilly.com/library/view/think-java-2nd/9781492072492/app01.html#JUnit (it's pretty good)\n",
        "\n",
        "I'll give you some code later on that will help you test more complex programs.  Do the two Gradle GitHub assignments I've posted.\n",
        "\n",
        "We will go over how to write JUnit tests in Eclipse and how to use Gradle for packaging.  \n"
      ],
      "metadata": {
        "id": "0DYzrUKuL_dc"
      }
    }
  ]
}